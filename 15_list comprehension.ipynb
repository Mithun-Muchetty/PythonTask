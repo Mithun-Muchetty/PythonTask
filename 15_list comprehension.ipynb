{
 "cells": [
  {
   "cell_type": "code",
   "execution_count": null,
   "metadata": {},
   "outputs": [],
   "source": [
    "\"\"\"\n",
    "List Comprehensions\n",
    "In addition to sequence operations and list methods, Python includes a more advanced operation called a list comprehension.\n",
    "\n",
    "It's just another way of creating the lists in single line \n",
    "\n",
    "syntax :\n",
    "my_list = [item for item in sequence]\n",
    "\"\"\"\n"
   ]
  },
  {
   "cell_type": "code",
   "execution_count": 1,
   "metadata": {},
   "outputs": [
    {
     "name": "stdout",
     "output_type": "stream",
     "text": [
      "['P', 'y', 't', 'h', 'o', 'n', 'L', 'i', 's', 't']\n"
     ]
    }
   ],
   "source": [
    "#EX1 \n",
    "# to convert a string to list of characters\n",
    "# normal method\n",
    "x  = 'PythonList'\n",
    "\n",
    "x_list = [] # step 1\n",
    "\n",
    "for char in x: # step 2\n",
    "    x_list.append(char) # step 3\n",
    "    \n",
    "print(x_list)"
   ]
  },
  {
   "cell_type": "code",
   "execution_count": 2,
   "metadata": {},
   "outputs": [
    {
     "name": "stdout",
     "output_type": "stream",
     "text": [
      "['P', 'y', 't', 'h', 'o', 'n', 'L', 'i', 's', 't']\n"
     ]
    }
   ],
   "source": [
    "# Using list comprehension\n",
    "x_list = [char for char in x]\n",
    "print(x_list)"
   ]
  },
  {
   "cell_type": "code",
   "execution_count": 3,
   "metadata": {},
   "outputs": [
    {
     "name": "stdout",
     "output_type": "stream",
     "text": [
      "[0, 1, 4, 9, 16, 25, 36, 49, 64, 81, 100]\n"
     ]
    }
   ],
   "source": [
    "#EX2 \n",
    "# create a list which contains the squares of 0 to 10\n",
    "# without list comprehension\n",
    "list1 = []\n",
    "\n",
    "for i in range(11):\n",
    "    list1.append(i**2)\n",
    "\n",
    "print(list1)"
   ]
  },
  {
   "cell_type": "code",
   "execution_count": 4,
   "metadata": {},
   "outputs": [
    {
     "name": "stdout",
     "output_type": "stream",
     "text": [
      "[0, 1, 4, 9, 16, 25, 36, 49, 64, 81, 100]\n"
     ]
    }
   ],
   "source": [
    "# with list comprehensions\n",
    "list1 = [i**2 for i in range(11)]\n",
    "print(list1)"
   ]
  },
  {
   "cell_type": "code",
   "execution_count": 5,
   "metadata": {},
   "outputs": [
    {
     "name": "stdout",
     "output_type": "stream",
     "text": [
      "[0, 2, 4, 6, 8, 10]\n"
     ]
    }
   ],
   "source": [
    "#EX 3 -- Let's see how to add in if statements:\n",
    "# normal method\n",
    "list1 = [] \n",
    "\n",
    "for i in range(11):\n",
    "    if(i%2 == 0):\n",
    "        list1.append(i)\n",
    "        \n",
    "print(list1)\n"
   ]
  },
  {
   "cell_type": "code",
   "execution_count": 7,
   "metadata": {},
   "outputs": [
    {
     "data": {
      "text/plain": [
       "[0, 2, 4, 6, 8, 10]"
      ]
     },
     "execution_count": 7,
     "metadata": {},
     "output_type": "execute_result"
    }
   ],
   "source": [
    "# Check for even numbers in a range\n",
    "list1 = [i for i in range(11) if(i%2 == 0)] \n",
    "list1\n"
   ]
  },
  {
   "cell_type": "code",
   "execution_count": null,
   "metadata": {},
   "outputs": [],
   "source": [
    "#TASK 12\n",
    "inpstr = \"  Welcome to python   \"\n",
    "\n",
    "def func():\n",
    " if ( inpstr )\n",
    "\n",
    "\n",
    "\n",
    "#test_list = [i for i in inpstr if i] \n",
    "test_list"
   ]
  },
  {
   "cell_type": "code",
   "execution_count": 17,
   "metadata": {},
   "outputs": [
    {
     "name": "stdout",
     "output_type": "stream",
     "text": [
      "['', '', 'welcome', 'to', 'python', '', '']\n"
     ]
    }
   ],
   "source": [
    "def Convert(string): \n",
    "    li = list(string.split(\" \")) \n",
    "    return li \n",
    "  \n",
    "# Driver code     \n",
    "li = \"  welcome to python  \"\n",
    "print(Convert(li))\n"
   ]
  },
  {
   "cell_type": "code",
   "execution_count": 125,
   "metadata": {},
   "outputs": [
    {
     "name": "stdout",
     "output_type": "stream",
     "text": [
      "welcometopython\n"
     ]
    }
   ],
   "source": [
    "a = \"  welcome to python  \"\n",
    "\n",
    "\"\"\"\n",
    "x_list = []\n",
    "for char in a:\n",
    " x_list.append(char)\n",
    " if ' ' in char:\n",
    "   x_list.remove(' ')\n",
    "   print(x_list)\n",
    " \n",
    "'''#str1 = str(print(x_list))'''\n",
    "str1 = ''.join(str(e) for e in x_list)\n",
    "print(str1)\n",
    "\"\"\"\n",
    "\n",
    "s = []\n",
    "for char in a:\n",
    " s.append(char)\n",
    " if ' ' in s:\n",
    "  s.remove(' ')\n",
    "    \n",
    "    \n",
    "listToStr = ''.join([str(elem) for elem in s])\n",
    "print(listToStr)\n",
    "\n"
   ]
  },
  {
   "cell_type": "code",
   "execution_count": 31,
   "metadata": {},
   "outputs": [
    {
     "name": "stdout",
     "output_type": "stream",
     "text": [
      "['w', 'e', 'l', 'c', 'o', 'm', 'e', ' ', 't', 'o', ' ', 'p', 'y', 't', 'h', 'o', 'n']\n"
     ]
    }
   ],
   "source": [
    "a = \"  welcome to python  \"\n",
    "\n",
    "s = [ char for char in a if char in a ]\n",
    "#str1= ''.join([str(elem) for elem in s])\n",
    "print(s[2:19])\n",
    " \n"
   ]
  },
  {
   "cell_type": "code",
   "execution_count": 39,
   "metadata": {
    "scrolled": true
   },
   "outputs": [
    {
     "name": "stdout",
     "output_type": "stream",
     "text": [
      "['w', 'e', 'l', 'c', 'o', 'm', 'e', ' ', 't', 'o', ' ', 'p', 'y', 't', 'h', 'o', 'n']\n"
     ]
    }
   ],
   "source": [
    "#Task12\n",
    "a = \"  welcome to python  \"\n",
    "x = a[2:-2]\n",
    "s = [ char for char in x if char in x ]\n",
    "print(s)"
   ]
  },
  {
   "cell_type": "code",
   "execution_count": null,
   "metadata": {},
   "outputs": [],
   "source": []
  }
 ],
 "metadata": {
  "kernelspec": {
   "display_name": "Python 3",
   "language": "python",
   "name": "python3"
  },
  "language_info": {
   "codemirror_mode": {
    "name": "ipython",
    "version": 3
   },
   "file_extension": ".py",
   "mimetype": "text/x-python",
   "name": "python",
   "nbconvert_exporter": "python",
   "pygments_lexer": "ipython3",
   "version": "3.7.6"
  }
 },
 "nbformat": 4,
 "nbformat_minor": 4
}
