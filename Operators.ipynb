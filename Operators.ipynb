{
 "cells": [
  {
   "cell_type": "code",
   "execution_count": 1,
   "metadata": {},
   "outputs": [
    {
     "name": "stdout",
     "output_type": "stream",
     "text": [
      "8\n"
     ]
    }
   ],
   "source": [
    "#Operators \n",
    "\"\"\"\n",
    "Operators are used to perform operations on variables and values.\n",
    "\n",
    "Python divides the operators in the following groups:\n",
    "\n",
    "Arithmetic operators\n",
    "Assignment operators\n",
    "Comparison operators\n",
    "Logical operators\n",
    "Identity operators\n",
    "Membership operators\n",
    "Bitwise operators\n",
    "\"\"\"\n",
    "\n",
    "#Python Arithmetic Operators\n",
    "#Addition\n",
    "x = 5\n",
    "y = 3\n",
    "print(x + y)\n"
   ]
  },
  {
   "cell_type": "code",
   "execution_count": 4,
   "metadata": {},
   "outputs": [
    {
     "name": "stdout",
     "output_type": "stream",
     "text": [
      "2\n",
      "15\n",
      "4.0\n"
     ]
    }
   ],
   "source": [
    "#Subtraction \n",
    "x = 5\n",
    "y = 3\n",
    "print(x - y)\n",
    "\n",
    "#Multiplication\n",
    "x = 5\n",
    "y = 3\n",
    "print(x * y)\n",
    "\n",
    "#Division\n",
    "x = 12\n",
    "y = 3\n",
    "print(x / y)\n"
   ]
  },
  {
   "cell_type": "code",
   "execution_count": 7,
   "metadata": {},
   "outputs": [
    {
     "name": "stdout",
     "output_type": "stream",
     "text": [
      "1\n",
      "32\n",
      "7\n"
     ]
    }
   ],
   "source": [
    "#Modulus -- it will diplay the reminder of the value\n",
    "x = 5\n",
    "y = 2\n",
    "print(x % y)\n",
    "\n",
    "#Exponentiation --- x to the power  of y\n",
    "x = 2\n",
    "y = 5\n",
    "print(x ** y) #same as 2*2*2*2*2\n",
    "\n",
    "#Floor division\n",
    "x = 15\n",
    "y = 2\n",
    "print(x // y)   it will display the quotient \n"
   ]
  },
  {
   "cell_type": "code",
   "execution_count": 22,
   "metadata": {},
   "outputs": [
    {
     "name": "stdout",
     "output_type": "stream",
     "text": [
      "5\n",
      "10\n",
      "4\n",
      "20\n",
      "9.555555555555555\n"
     ]
    }
   ],
   "source": [
    "##Assignment Operators\n",
    "x=5\n",
    "print(x)\n",
    "\n",
    "x1=5\n",
    "x1+=5\n",
    "print(x1)\n",
    "\n",
    "y=10\n",
    "y -= 6\n",
    "print(y)\n",
    "\n",
    "z=4\n",
    "z *= 5\n",
    "print(z)\n",
    "\n",
    "a=86\n",
    "a /= 9\n",
    "print(a)"
   ]
  },
  {
   "cell_type": "code",
   "execution_count": 23,
   "metadata": {},
   "outputs": [
    {
     "name": "stdout",
     "output_type": "stream",
     "text": [
      "2\n"
     ]
    }
   ],
   "source": [
    "x = 5\n",
    "\n",
    "x%=3\n",
    "\n",
    "print(x)\n"
   ]
  },
  {
   "cell_type": "code",
   "execution_count": 30,
   "metadata": {},
   "outputs": [
    {
     "name": "stdout",
     "output_type": "stream",
     "text": [
      "False\n",
      "True\n",
      "True\n",
      "False\n",
      "True\n",
      "False\n"
     ]
    }
   ],
   "source": [
    "#Python Comparison Operators\n",
    "x = 5\n",
    "y = 3\n",
    "## returns False because 5 is not equal to 3\n",
    "print(x == y)\n",
    "\n",
    "\n",
    "x = 5\n",
    "y = 3\n",
    "# returns True because 5 is not equal to 3\n",
    "print(x != y)\n",
    "\n",
    "x = 5\n",
    "y = 3\n",
    "# returns True because 5 is greater than 3\n",
    "print(x > y)\n",
    "\n",
    "x = 9\n",
    "y = 6\n",
    "# returns False because 5 is not less than 3\n",
    "print(x < y)\n",
    "\n",
    "x = 5\n",
    "y = 3\n",
    "# returns True because five is greater, or equal, to 3\n",
    "print(x >= y)\n",
    "\n",
    "x = 5\n",
    "y = 3\n",
    "# returns False because 5 is neither less than or equal to 3\n",
    "print(x <= y)\n"
   ]
  },
  {
   "cell_type": "code",
   "execution_count": 36,
   "metadata": {},
   "outputs": [
    {
     "name": "stdout",
     "output_type": "stream",
     "text": [
      "True\n",
      "False\n",
      "True\n",
      "False\n",
      "False\n",
      "True\n"
     ]
    }
   ],
   "source": [
    "#Python Logical Operators\n",
    "#and -- Returns True if both statements are true\n",
    "x = 5\n",
    "# returns True because 5 is greater than 3 AND 5 is less than 10\n",
    "print(x > 3 and x < 10)\n",
    "\n",
    "print(x > 3 and x > 10)\n",
    "\n",
    "#Or -- Returns True if one of the statements is true\n",
    "x = 5\n",
    "# returns True because one of the conditions are true (5 is greater than 3, but 5 is not less than 4)\n",
    "print(x > 3 or x < 4)\n",
    "print(x <3 or x < 4)\n",
    "\n",
    "#Not -- Reverse the result, returns False if the result is true\n",
    "x = 5\n",
    "# returns False because not is used to reverse the result\n",
    "print(not(x > 3 and x < 10))\n",
    "print(not(x < 3 and x > 10))\n",
    "\n",
    "\n",
    "\n",
    "\n",
    "\n",
    "\n"
   ]
  },
  {
   "cell_type": "code",
   "execution_count": 38,
   "metadata": {},
   "outputs": [
    {
     "name": "stdout",
     "output_type": "stream",
     "text": [
      "True\n",
      "False\n",
      "True\n",
      "False\n",
      "True\n",
      "False\n"
     ]
    }
   ],
   "source": [
    "#Python Identity Operators\n",
    "\n",
    "#IS -- Returns True if both variables are the same object\n",
    "x = [\"apple\", \"banana\"]\n",
    "y = [\"apple\", \"banana\"]\n",
    "z = x\n",
    "# returns True because z is the same object as x\n",
    "print(x is z)\n",
    "\n",
    "# returns False because x is not the same object as y, even if they have the same content\n",
    "print(x is y)\n",
    "\n",
    "# to demonstrate the difference betweeen \"is\" and \"==\": this comparison returns True because x is equal to y\n",
    "print(x == y)\n"
   ]
  },
  {
   "cell_type": "code",
   "execution_count": 39,
   "metadata": {},
   "outputs": [
    {
     "name": "stdout",
     "output_type": "stream",
     "text": [
      "False\n",
      "True\n",
      "False\n"
     ]
    }
   ],
   "source": [
    "#IS Not -- Returns True if both variables are not the same object\n",
    "x = [\"apple\", \"banana\"]\n",
    "y = [\"apple\", \"banana\"]\n",
    "z = x\n",
    "# returns False because z is the same object as x\n",
    "print(x is not z)\n",
    "\n",
    "# returns True because x is not the same object as y, even if they have the same content\n",
    "print(x is not y)\n",
    "\n",
    "# to demonstrate the difference betweeen \"is not\" and \"!=\": this comparison returns False because x is equal to y\n",
    "print(x != y)\n"
   ]
  },
  {
   "cell_type": "code",
   "execution_count": 42,
   "metadata": {},
   "outputs": [
    {
     "name": "stdout",
     "output_type": "stream",
     "text": [
      "True\n",
      "True\n",
      "False\n"
     ]
    }
   ],
   "source": [
    "#Python Membership Operators\n",
    "#IN -- Returns True if a sequence with the specified value is present in the object\n",
    "x = [\"apple\", \"banana\"]\n",
    "# returns True because a sequence with the value \"banana\" is in the list\n",
    "print(\"banana\" in x)\n",
    "\n",
    "#Not In -- Returns True if a sequence with the specified value is not present in the object\n",
    "x = [\"apple\", \"banana\"]\n",
    "# returns True because a sequence with the value \"pineapple\" is not in the list\n",
    "print(\"pineapple\" not in x)\n",
    "print(\"apple\" not in x)\n",
    "\n",
    "\n"
   ]
  },
  {
   "cell_type": "code",
   "execution_count": 43,
   "metadata": {},
   "outputs": [
    {
     "data": {
      "text/plain": [
       "'\\nOperator\\tName\\tDescription\\n& \\tAND\\tSets each bit to 1 if both bits are 1\\n|\\tOR\\tSets each bit to 1 if one of two bits is 1\\n ^\\tXOR\\tSets each bit to 1 if only one of two bits is 1\\n~ \\tNOT\\tInverts all the bits\\n<<\\tZero fill left shift\\tShift left by pushing zeros in from the right and let the leftmost bits fall off\\n>>\\tSigned right shift\\tShift right by pushing copies of the leftmost bit in from the left, and let the rightmost bits fall off\\n'"
      ]
     },
     "execution_count": 43,
     "metadata": {},
     "output_type": "execute_result"
    }
   ],
   "source": [
    "#Python Bitwise Operators\n",
    "\"\"\"\n",
    "Operator\tName\tDescription\n",
    "& \tAND\tSets each bit to 1 if both bits are 1\n",
    "|\tOR\tSets each bit to 1 if one of two bits is 1\n",
    " ^\tXOR\tSets each bit to 1 if only one of two bits is 1\n",
    "~ \tNOT\tInverts all the bits\n",
    "<<\tZero fill left shift\tShift left by pushing zeros in from the right and let the leftmost bits fall off\n",
    ">>\tSigned right shift\tShift right by pushing copies of the leftmost bit in from the left, and let the rightmost bits fall off\n",
    "\"\"\""
   ]
  },
  {
   "cell_type": "code",
   "execution_count": null,
   "metadata": {},
   "outputs": [],
   "source": []
  }
 ],
 "metadata": {
  "kernelspec": {
   "display_name": "Python 3",
   "language": "python",
   "name": "python3"
  },
  "language_info": {
   "codemirror_mode": {
    "name": "ipython",
    "version": 3
   },
   "file_extension": ".py",
   "mimetype": "text/x-python",
   "name": "python",
   "nbconvert_exporter": "python",
   "pygments_lexer": "ipython3",
   "version": "3.7.6"
  }
 },
 "nbformat": 4,
 "nbformat_minor": 4
}
