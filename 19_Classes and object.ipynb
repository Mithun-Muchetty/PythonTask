{
 "cells": [
  {
   "cell_type": "markdown",
   "metadata": {},
   "source": [
    "Classes\n",
    "\n",
    "Like every other Object Oriented Programming language Python also supports classes.\n",
    "\n",
    "Class is like a blueprint or template for creating objects.\n",
    "\n",
    "class keyword is used to create classes in python"
   ]
  },
  {
   "cell_type": "code",
   "execution_count": null,
   "metadata": {},
   "outputs": [],
   "source": [
    "\"\"\"\n",
    "syntax ---->\n",
    "\n",
    "class NameOfTheClass:\n",
    "    .......\n",
    "\"\"\""
   ]
  },
  {
   "cell_type": "code",
   "execution_count": 1,
   "metadata": {},
   "outputs": [],
   "source": [
    "#Ex1) Consider the Dog example\n",
    "class Dog:\n",
    "    pass"
   ]
  },
  {
   "cell_type": "markdown",
   "metadata": {},
   "source": [
    "Object\n",
    "\n",
    "#An object (instance) is an instantiation of a class\n",
    "\n",
    "#An object has two characteristics:\n",
    "\n",
    "\"\"\"   \n",
    "1) attributes / properties / variables  ---\n",
    "Ex : breed,size,age,color,etc\n",
    "    \n",
    "2) behavior / actions / methods  ---\n",
    "Ex : bark(),eat(),sleep() etc\n",
    "\n",
    "\"\"\""
   ]
  },
  {
   "cell_type": "markdown",
   "metadata": {},
   "source": [
    "#Creating the object\n",
    "dog_obj = Dog()"
   ]
  },
  {
   "cell_type": "markdown",
   "metadata": {},
   "source": [
    "_ init _() method\n",
    "\n",
    "All classes have a function called _ init _(), which is always executed when the class is being instantiated.\n",
    "\n",
    "It is run as soon as an object of a class is instantiated.\n",
    "\n",
    "use this function to assign values to object properties"
   ]
  },
  {
   "cell_type": "code",
   "execution_count": 2,
   "metadata": {},
   "outputs": [],
   "source": [
    "class Dog:\n",
    "    def __init__(self):\n",
    "        print('Inside init method')"
   ]
  },
  {
   "cell_type": "code",
   "execution_count": 3,
   "metadata": {},
   "outputs": [
    {
     "name": "stdout",
     "output_type": "stream",
     "text": [
      "Inside init method\n"
     ]
    }
   ],
   "source": [
    "dog_obj = Dog()"
   ]
  },
  {
   "cell_type": "markdown",
   "metadata": {},
   "source": [
    "self parameter\n",
    "\n",
    "Class methods must have an extra first parameter in method definition. We do not give a value for this parameter when we call the method, Python provides it\n",
    "\n",
    "The self parameter is a reference to the current instance of the class\n",
    "\n",
    "It can be used to access variables that belongs to the class."
   ]
  },
  {
   "cell_type": "code",
   "execution_count": 5,
   "metadata": {},
   "outputs": [],
   "source": [
    "class Dog:\n",
    "    def __init__(self,breed,size,age):\n",
    "        self.breed = breed\n",
    "        self.size = size\n",
    "        self.age = age"
   ]
  },
  {
   "cell_type": "code",
   "execution_count": 6,
   "metadata": {},
   "outputs": [],
   "source": [
    "dog1 = Dog('Pug','small',1)"
   ]
  },
  {
   "cell_type": "code",
   "execution_count": 7,
   "metadata": {},
   "outputs": [
    {
     "data": {
      "text/plain": [
       "1"
      ]
     },
     "execution_count": 7,
     "metadata": {},
     "output_type": "execute_result"
    }
   ],
   "source": [
    "dog1.age"
   ]
  },
  {
   "cell_type": "code",
   "execution_count": 8,
   "metadata": {},
   "outputs": [
    {
     "data": {
      "text/plain": [
       "'Pug'"
      ]
     },
     "execution_count": 8,
     "metadata": {},
     "output_type": "execute_result"
    }
   ],
   "source": [
    "dog1.breed"
   ]
  },
  {
   "cell_type": "code",
   "execution_count": 9,
   "metadata": {},
   "outputs": [
    {
     "data": {
      "text/plain": [
       "'small'"
      ]
     },
     "execution_count": 9,
     "metadata": {},
     "output_type": "execute_result"
    }
   ],
   "source": [
    "dog1.size"
   ]
  },
  {
   "cell_type": "code",
   "execution_count": 11,
   "metadata": {},
   "outputs": [],
   "source": [
    "dog2 = Dog('Bulldog','medium',2)"
   ]
  },
  {
   "cell_type": "code",
   "execution_count": 12,
   "metadata": {},
   "outputs": [
    {
     "data": {
      "text/plain": [
       "'Bulldog'"
      ]
     },
     "execution_count": 12,
     "metadata": {},
     "output_type": "execute_result"
    }
   ],
   "source": [
    "dog2.breed\n",
    "#dog2.size"
   ]
  },
  {
   "cell_type": "markdown",
   "metadata": {},
   "source": [
    "class variables and instance variables\n",
    "\n",
    "class variables are the variables that are common to all the objects\n",
    "\n",
    "instance variables are the variables that are specific to the perticular objects"
   ]
  },
  {
   "cell_type": "code",
   "execution_count": 25,
   "metadata": {},
   "outputs": [],
   "source": [
    "    #class variables\n",
    "    species = 'mammal'\n",
    "    city = 'Bengaluru' #Assumed for this example\n",
    "    \n",
    "    def __init__(self,breed,size,age):\n",
    "        #instance variables\n",
    "        self.breed = breed\n",
    "        self.size = size\n",
    "        self.age = age"
   ]
  },
  {
   "cell_type": "code",
   "execution_count": 19,
   "metadata": {},
   "outputs": [],
   "source": [
    "dog1 = Dog('pug','small',1)\n",
    "dog2 = Dog('bulldog','medium',2)"
   ]
  },
  {
   "cell_type": "code",
   "execution_count": 23,
   "metadata": {},
   "outputs": [
    {
     "data": {
      "text/plain": [
       "'pug'"
      ]
     },
     "execution_count": 23,
     "metadata": {},
     "output_type": "execute_result"
    }
   ],
   "source": [
    "#dog1.species\n",
    "#dog2.species\n",
    "#dog1.city\n",
    "#dog2.city\n",
    "dog1.breed"
   ]
  },
  {
   "cell_type": "markdown",
   "metadata": {},
   "source": [
    "Note: you can access the class variables by using the classname itself ie.,\n",
    "\n",
    "ClassName.class_variable"
   ]
  },
  {
   "cell_type": "code",
   "execution_count": 27,
   "metadata": {},
   "outputs": [
    {
     "ename": "AttributeError",
     "evalue": "type object 'Dog' has no attribute 'species'",
     "output_type": "error",
     "traceback": [
      "\u001b[1;31m---------------------------------------------------------------------------\u001b[0m",
      "\u001b[1;31mAttributeError\u001b[0m                            Traceback (most recent call last)",
      "\u001b[1;32m<ipython-input-27-66dc4b1255d1>\u001b[0m in \u001b[0;36m<module>\u001b[1;34m\u001b[0m\n\u001b[1;32m----> 1\u001b[1;33m \u001b[0mDog\u001b[0m\u001b[1;33m.\u001b[0m\u001b[0mspecies\u001b[0m\u001b[1;33m\u001b[0m\u001b[1;33m\u001b[0m\u001b[0m\n\u001b[0m\u001b[0;32m      2\u001b[0m \u001b[0mDog\u001b[0m\u001b[1;33m.\u001b[0m\u001b[0mcity\u001b[0m\u001b[1;33m\u001b[0m\u001b[1;33m\u001b[0m\u001b[0m\n",
      "\u001b[1;31mAttributeError\u001b[0m: type object 'Dog' has no attribute 'species'"
     ]
    }
   ],
   "source": [
    "#Dog.species\n",
    "#Dog.city"
   ]
  },
  {
   "cell_type": "markdown",
   "metadata": {},
   "source": [
    "Methods"
   ]
  },
  {
   "cell_type": "code",
   "execution_count": 28,
   "metadata": {},
   "outputs": [],
   "source": [
    "class Dog:\n",
    "    #class variables\n",
    "    species = 'mammal'\n",
    "    \n",
    "    def __init__(self,breed,size,age):\n",
    "        #instance variables\n",
    "        self.breed = breed\n",
    "        self.size = size\n",
    "        self.age = age\n",
    "    \n",
    "    #without any parameters\n",
    "    def bark(self):\n",
    "        print('Boww Boww. I am '+self.breed)\n",
    "        \n",
    "    #with one parameter\n",
    "    def eat(self,food):\n",
    "        print('I will eat '+food)\n",
    "       \n",
    "    def sleep(self,hours = 1):\n",
    "        print(\"HI i am {} and I sleep for {} hours\".format(self.breed,hours))"
   ]
  },
  {
   "cell_type": "code",
   "execution_count": 32,
   "metadata": {},
   "outputs": [],
   "source": [
    "\"\"\"dog1 = Dog('pug','small',1)\n",
    "dog1.bark()\n",
    "dog1.eat('pedigree')\n",
    "dog1.sleep(4)\n",
    "\"\"\"\n",
    "dog2 = Dog('bulldog','medium',2)"
   ]
  },
  {
   "cell_type": "code",
   "execution_count": 33,
   "metadata": {},
   "outputs": [
    {
     "name": "stdout",
     "output_type": "stream",
     "text": [
      "I will eat chicken\n"
     ]
    }
   ],
   "source": [
    "dog2.eat('chicken') "
   ]
  },
  {
   "cell_type": "code",
   "execution_count": null,
   "metadata": {},
   "outputs": [],
   "source": []
  }
 ],
 "metadata": {
  "kernelspec": {
   "display_name": "Python 3",
   "language": "python",
   "name": "python3"
  },
  "language_info": {
   "codemirror_mode": {
    "name": "ipython",
    "version": 3
   },
   "file_extension": ".py",
   "mimetype": "text/x-python",
   "name": "python",
   "nbconvert_exporter": "python",
   "pygments_lexer": "ipython3",
   "version": "3.7.6"
  }
 },
 "nbformat": 4,
 "nbformat_minor": 4
}
