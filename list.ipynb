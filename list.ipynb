{
 "cells": [
  {
   "cell_type": "code",
   "execution_count": 2,
   "metadata": {},
   "outputs": [
    {
     "name": "stdout",
     "output_type": "stream",
     "text": [
      "['apple', 'cherry']\n"
     ]
    }
   ],
   "source": [
    "##List  \n",
    "#Task3\n",
    "#Remove() - remove the specified item in the list\n",
    "this = [\"apple\", \"banana\", \"cherry\"]\n",
    "this.remove(\"banana\")\n",
    "print(this)"
   ]
  },
  {
   "cell_type": "code",
   "execution_count": 3,
   "metadata": {},
   "outputs": [
    {
     "name": "stdout",
     "output_type": "stream",
     "text": [
      "[]\n"
     ]
    }
   ],
   "source": [
    "#Clear()-clear the whole list\n",
    "this = [\"apple\", \"banana\", \"cherry\"]\n",
    "this.clear()\n",
    "print(this)"
   ]
  },
  {
   "cell_type": "code",
   "execution_count": 5,
   "metadata": {},
   "outputs": [
    {
     "name": "stdout",
     "output_type": "stream",
     "text": [
      "2\n"
     ]
    }
   ],
   "source": [
    "#count() -- returns the number of elements with the specified value.\n",
    "Fruits = [1,2,3,4,5,6,2,5,8,9]\n",
    "F=Fruits.count(2)\n",
    "print(F)"
   ]
  },
  {
   "cell_type": "code",
   "execution_count": 7,
   "metadata": {},
   "outputs": [
    {
     "name": "stdout",
     "output_type": "stream",
     "text": [
      "['cherry', 'banana', 'apple']\n"
     ]
    }
   ],
   "source": [
    "#Reverse() --reverse the order of list\n",
    "fruits = ['apple', 'banana', 'cherry']\n",
    "fruits.reverse()\n",
    "print(fruits)\n"
   ]
  },
  {
   "cell_type": "code",
   "execution_count": 8,
   "metadata": {},
   "outputs": [
    {
     "name": "stdout",
     "output_type": "stream",
     "text": [
      "['a', 'b', 'e', 'm', 'n', 'o', 'x']\n"
     ]
    }
   ],
   "source": [
    "#Sort-- sort the list in order like alphabet, ascedening \n",
    "Alphabet = ['x','b','n','m','e','o','a']\n",
    "Alphabet.sort()\n",
    "print(Alphabet)\n"
   ]
  },
  {
   "cell_type": "code",
   "execution_count": 49,
   "metadata": {},
   "outputs": [
    {
     "name": "stdout",
     "output_type": "stream",
     "text": [
      "[50, 60]\n",
      "[50, 60, 70]\n",
      "[30, 40, [50, 60, 70], 80]\n",
      "[10, 20, 90, 100]\n",
      "[10, 20, [30, 40, [50, 60, 70], 80], 90, 100]\n"
     ]
    }
   ],
   "source": [
    "#task 4 \n",
    "#1 add 70 after 60 in the list.\n",
    "l1 = [10,20,[30,40,[50,60],80],90,100]\n",
    "#l1.insert(l1.index(90),70)\n",
    "#a=l1.index([30,40,[50,60],80])\n",
    "a=l1[2][2]\n",
    "print(a)\n",
    "\n",
    "a.append(70)\n",
    "print(a)\n",
    "\n",
    "b= l1.pop(2)\n",
    "\n",
    "print(b)\n",
    "print(l1)\n",
    "\n",
    "l1.insert( 2,b )\n",
    "print(l1)\n"
   ]
  },
  {
   "cell_type": "code",
   "execution_count": null,
   "metadata": {},
   "outputs": [],
   "source": []
  },
  {
   "cell_type": "code",
   "execution_count": 60,
   "metadata": {},
   "outputs": [
    {
     "name": "stdout",
     "output_type": "stream",
     "text": [
      "[3, 4, 5, 6]\n",
      "[1, 2, 9]\n",
      "[3, 4, 5, 6, [7, 8]]\n",
      "[1, 2, [3, 4, 5, 6, [7, 8]], 9]\n"
     ]
    }
   ],
   "source": [
    "#add sublist [7,8]\n",
    "#input\n",
    "l2 = [1,2,[3,4,5,6],9]\n",
    "#output ---  [1,2,[3,4,5,6,[7,8]],9]\n",
    "\n",
    "x=l2[2]\n",
    "print(x)\n",
    "\n",
    "l2.pop(2)\n",
    "print(l2)\n",
    "\n",
    "x.insert(4,[7,8])\n",
    "print(x)\n",
    "\n",
    "l2.insert(2,x)\n",
    "print(l2)\n"
   ]
  },
  {
   "cell_type": "code",
   "execution_count": null,
   "metadata": {},
   "outputs": [],
   "source": []
  },
  {
   "cell_type": "code",
   "execution_count": null,
   "metadata": {},
   "outputs": [],
   "source": []
  }
 ],
 "metadata": {
  "kernelspec": {
   "display_name": "Python 3",
   "language": "python",
   "name": "python3"
  },
  "language_info": {
   "codemirror_mode": {
    "name": "ipython",
    "version": 3
   },
   "file_extension": ".py",
   "mimetype": "text/x-python",
   "name": "python",
   "nbconvert_exporter": "python",
   "pygments_lexer": "ipython3",
   "version": "3.7.6"
  }
 },
 "nbformat": 4,
 "nbformat_minor": 4
}
