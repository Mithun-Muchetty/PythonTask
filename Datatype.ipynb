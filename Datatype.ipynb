{
 "cells": [
  {
   "cell_type": "code",
   "execution_count": 7,
   "metadata": {},
   "outputs": [
    {
     "name": "stdout",
     "output_type": "stream",
     "text": [
      "<class 'int'>\n",
      "<class 'str'>\n",
      "<class 'list'>\n"
     ]
    }
   ],
   "source": [
    "#Data Types\n",
    "#In programming, data type is an important concept.\n",
    "\n",
    "#Variables can store data of different types, and different types can do different things.\n",
    "\n",
    "#Python has the following data types built-in by default, in these categories:\n",
    "\"\"\"\n",
    "Text Type:\tstr\n",
    "Numeric Types:\tint, float, complex\n",
    "Sequence Types:\tlist, tuple, range\n",
    "Mapping Type:\tdict\n",
    "Set Types:\tset, frozenset\n",
    "Boolean Type:\tbool\n",
    "Binary Types:\tbytes, bytearray, memoryview\n",
    "\"\"\"\n",
    "\n",
    "x= 5 \n",
    "print (type(5))\n",
    "\n",
    "y = \"Hello World\" \n",
    "print(type(y))\n",
    "\n",
    "z= [\"apple\", \"banana\", \"cherry\"]\n",
    "print(type(z))"
   ]
  },
  {
   "cell_type": "code",
   "execution_count": 10,
   "metadata": {},
   "outputs": [
    {
     "name": "stdout",
     "output_type": "stream",
     "text": [
      "<class 'int'>\n",
      "<class 'float'>\n",
      "<class 'complex'>\n"
     ]
    }
   ],
   "source": [
    "#numbers \n",
    "\"\"\"There are three numeric types in Python:\n",
    "int\n",
    "float\n",
    "complex\n",
    "\"\"\"\n",
    "x = 1    # int\n",
    "y = 2.8  # float\n",
    "z = 1j   # complex\n",
    "print(type(x))\n",
    "print(type(y))\n",
    "print(type(z))\n"
   ]
  },
  {
   "cell_type": "code",
   "execution_count": 11,
   "metadata": {},
   "outputs": [
    {
     "name": "stdout",
     "output_type": "stream",
     "text": [
      "<class 'float'>\n",
      "<class 'float'>\n",
      "<class 'float'>\n"
     ]
    }
   ],
   "source": [
    "#float\n",
    "x = 35e3\n",
    "y = 12E4\n",
    "z = -87.7e100\n",
    "print(type(x))\n",
    "print(type(y))\n",
    "print(type(z))"
   ]
  },
  {
   "cell_type": "code",
   "execution_count": 12,
   "metadata": {},
   "outputs": [
    {
     "name": "stdout",
     "output_type": "stream",
     "text": [
      "<class 'complex'>\n",
      "<class 'complex'>\n",
      "<class 'complex'>\n"
     ]
    }
   ],
   "source": [
    "#Complex numbers are written with a \"j\" as the imaginary part:\n",
    "a=5j\n",
    "b=9+2j\n",
    "c=-6j\n",
    "print(type(a))\n",
    "print(type(b))\n",
    "print(type(c))"
   ]
  },
  {
   "cell_type": "code",
   "execution_count": 13,
   "metadata": {},
   "outputs": [
    {
     "name": "stdout",
     "output_type": "stream",
     "text": [
      "1.0\n",
      "2\n",
      "(1+0j)\n"
     ]
    }
   ],
   "source": [
    "#type convserion\n",
    "x=1\n",
    "y=2.8\n",
    "z=1j\n",
    "#convert from int to float:\n",
    "x = float(1)\n",
    "#convert from float to int:\n",
    "y = int(2.8)\n",
    "#convert from int to complex:\n",
    "z = complex(x)\n",
    "\n",
    "print(x)\n",
    "print(y)\n",
    "print(z)\n"
   ]
  },
  {
   "cell_type": "code",
   "execution_count": 14,
   "metadata": {},
   "outputs": [
    {
     "name": "stdout",
     "output_type": "stream",
     "text": [
      "5\n"
     ]
    }
   ],
   "source": [
    "#random number-- python do not have random() function to make a random number.\n",
    "#Import the random module, and display a random number\n",
    "import random\n",
    "\n",
    "print(random.randrange(1, 10))\n"
   ]
  },
  {
   "cell_type": "code",
   "execution_count": null,
   "metadata": {},
   "outputs": [],
   "source": []
  }
 ],
 "metadata": {
  "kernelspec": {
   "display_name": "Python 3",
   "language": "python",
   "name": "python3"
  },
  "language_info": {
   "codemirror_mode": {
    "name": "ipython",
    "version": 3
   },
   "file_extension": ".py",
   "mimetype": "text/x-python",
   "name": "python",
   "nbconvert_exporter": "python",
   "pygments_lexer": "ipython3",
   "version": "3.7.6"
  }
 },
 "nbformat": 4,
 "nbformat_minor": 4
}
