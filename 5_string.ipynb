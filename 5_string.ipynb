{
 "cells": [
  {
   "cell_type": "code",
   "execution_count": 2,
   "metadata": {},
   "outputs": [
    {
     "name": "stdout",
     "output_type": "stream",
     "text": [
      "Hi\n",
      "Hi\n"
     ]
    }
   ],
   "source": [
    "#String literals in python are surrounded by either single quotation marks, or double quotation marks.\n",
    "a='Hi'\n",
    "print(a)\n",
    "\n",
    "print (\"Hi\")"
   ]
  },
  {
   "cell_type": "code",
   "execution_count": null,
   "metadata": {},
   "outputs": [],
   "source": [
    "usrname = input(\"Enter Your Name \")"
   ]
  },
  {
   "cell_type": "code",
   "execution_count": null,
   "metadata": {},
   "outputs": [],
   "source": [
    "#task 1 "
   ]
  },
  {
   "cell_type": "code",
   "execution_count": 2,
   "metadata": {},
   "outputs": [
    {
     "name": "stdout",
     "output_type": "stream",
     "text": [
      "Welcome to Python Language\n",
      "   Welcome from Python Language  \n"
     ]
    }
   ],
   "source": [
    "a=\"   Welcome to Python Language  \"\n",
    "#strip()\n",
    "print(a.strip()) #reemove the excess space in the string \n",
    "\n",
    "#Replace()\n",
    "print(a.replace(\"to\", \"from\"))\n",
    "\n"
   ]
  },
  {
   "cell_type": "code",
   "execution_count": 3,
   "metadata": {},
   "outputs": [
    {
     "name": "stdout",
     "output_type": "stream",
     "text": [
      "['   Welcome Python Language  ']\n"
     ]
    }
   ],
   "source": [
    " A =\"   Welcome Python Language  \"\n",
    "    #split()\n",
    "print (A.split(\",\"))"
   ]
  },
  {
   "cell_type": "code",
   "execution_count": 27,
   "metadata": {},
   "outputs": [
    {
     "name": "stdout",
     "output_type": "stream",
     "text": [
      "True\n",
      "False\n",
      "True\n"
     ]
    }
   ],
   "source": [
    "X =\"Good morning, welcome to javascript\"\n",
    "#Check String\n",
    "B = \"orn\" in X\n",
    "print(B)\n",
    "##############################\n",
    "B = \"ome\" not in X\n",
    "print(B)\n",
    "\n"
   ]
  },
  {
   "cell_type": "code",
   "execution_count": 5,
   "metadata": {},
   "outputs": [
    {
     "name": "stdout",
     "output_type": "stream",
     "text": [
      "My name is Mithun, I am 26 year old\n"
     ]
    }
   ],
   "source": [
    "#Format()\n",
    "age = 26\n",
    "txt = \"My name is Mithun, I am {} year old\" . format(age)\n",
    "print(txt) \n"
   ]
  },
  {
   "cell_type": "code",
   "execution_count": 11,
   "metadata": {},
   "outputs": [
    {
     "name": "stdout",
     "output_type": "stream",
     "text": [
      "7\n"
     ]
    }
   ],
   "source": [
    "#Find()\n",
    "txt = \"Hello, welcome to my world.\"\n",
    "x = txt.find(\"welcome\")\n",
    "print(x)\n",
    "#return the index where welcom word starts "
   ]
  },
  {
   "cell_type": "code",
   "execution_count": 14,
   "metadata": {},
   "outputs": [
    {
     "name": "stdout",
     "output_type": "stream",
     "text": [
      "                      Python                      \n"
     ]
    }
   ],
   "source": [
    "#Center()\n",
    "#takes 30 char space to print the value .\n",
    "Y = \"Python\"\n",
    "x = Y.center(30)\n",
    "print(x)\n"
   ]
  },
  {
   "cell_type": "code",
   "execution_count": 28,
   "metadata": {},
   "outputs": [
    {
     "name": "stdout",
     "output_type": "stream",
     "text": [
      "True\n"
     ]
    }
   ],
   "source": [
    "#TASK2\n",
    "Z =\"Welcom to Python\"\n",
    "M= \"to\" in Z\n",
    "print(M)"
   ]
  },
  {
   "cell_type": "code",
   "execution_count": 6,
   "metadata": {},
   "outputs": [
    {
     "name": "stdout",
     "output_type": "stream",
     "text": [
      "e\n",
      "W\n"
     ]
    }
   ],
   "source": [
    "#srting are array\n",
    "#Like many other popular programming languages, strings in Python are arrays of bytes representing unicode characters.\n",
    "#Square brackets can be used to access elements of the string.\n",
    "a = \"Hello, World!\"\n",
    "print(a[1])\n",
    "print(a[7])\n"
   ]
  },
  {
   "cell_type": "code",
   "execution_count": 23,
   "metadata": {},
   "outputs": [
    {
     "name": "stdout",
     "output_type": "stream",
     "text": [
      "llo\n",
      "com to ja\n",
      " to java\n",
      "o javascript language\n"
     ]
    }
   ],
   "source": [
    "#slice() --You can return a range of characters by using the slice syntax.\n",
    "#Specify the start index and the end index, separated by a colon, to return a part of the string.\n",
    "#it will display the index end with -1(means before one end index)\n",
    "\n",
    "b = \"Hello, World!\"\n",
    "print(b[2:5])\n",
    "\n",
    "x= \"Welcom to javascript language\"\n",
    "print(x[3:12])\n",
    "\n",
    "print(x[6:14])\n",
    "print(x[8:])"
   ]
  },
  {
   "cell_type": "code",
   "execution_count": 20,
   "metadata": {},
   "outputs": [
    {
     "name": "stdout",
     "output_type": "stream",
     "text": [
      "Worl\n",
      "World\n"
     ]
    }
   ],
   "source": [
    "#Negative Index -- \n",
    "#Use negative indexes to start the slice from the end of the string:\n",
    "b = \"Hello, World\"\n",
    "print(b[-5:-1])\n",
    "\n",
    "print(b[-5:])\n"
   ]
  },
  {
   "cell_type": "code",
   "execution_count": 29,
   "metadata": {},
   "outputs": [
    {
     "name": "stdout",
     "output_type": "stream",
     "text": [
      "16\n",
      "welcome to string length\n",
      "WELCOME TO STRING\n"
     ]
    }
   ],
   "source": [
    "#Len()  --- it ill show the length of the specified string\n",
    "\n",
    "str1 ='Welcom to string'\n",
    "print(len(str1))\n",
    "\n",
    "#Lower()  --  The lower() method returns the string in lower case:\n",
    "str2 = 'WELCOME TO STRING LENGTH'\n",
    "print(str2.lower())\n",
    "\n",
    "#upper()  -- The upper() method returns the string in upper case:\n",
    "str3 = 'welcome to string'\n",
    "print(str3.upper())\n"
   ]
  },
  {
   "cell_type": "code",
   "execution_count": 31,
   "metadata": {},
   "outputs": [
    {
     "name": "stdout",
     "output_type": "stream",
     "text": [
      "Hello World\n"
     ]
    }
   ],
   "source": [
    "#To concatenate, or combine, two strings you can use the \"+\" operator.\n",
    "a = \"Hello \"\n",
    "b = \"World\"\n",
    "c = a + b\n",
    "print(c)\n",
    "\n"
   ]
  },
  {
   "cell_type": "code",
   "execution_count": 38,
   "metadata": {},
   "outputs": [
    {
     "name": "stdout",
     "output_type": "stream",
     "text": [
      "We are the so-called \"Vikings\" from the north.\n",
      "We are the so-called 'Vikings' from the north.\n",
      "We are the so-called 'Vikings' from the north.\n"
     ]
    }
   ],
   "source": [
    "#Escape Character\n",
    "'''\n",
    "To insert characters that are illegal in a string, use an escape character.\n",
    "An escape character is a backslash \\ followed by the character you want to insert.\n",
    "'''\n",
    "txt = \"We are the so-called \\\"Vikings\\\" from the north.\"\n",
    "print(txt) \n",
    "\n",
    "txt1 = 'We are the so-called \\'Vikings\\' from the north.'\n",
    "print(txt1) \n",
    "\n",
    "txt2 = \"We are the so-called \\'Vikings\\' from the north.\"\n",
    "print(txt2) \n"
   ]
  },
  {
   "cell_type": "code",
   "execution_count": 42,
   "metadata": {},
   "outputs": [
    {
     "name": "stdout",
     "output_type": "stream",
     "text": [
      "Hello , Good mMrning \n"
     ]
    }
   ],
   "source": [
    "#capitalize()  -- Upper case the first letter in this sentence\n",
    "\n",
    "str=\"hello , good morning \"\n",
    "str.capitalize()\n"
   ]
  },
  {
   "cell_type": "code",
   "execution_count": 45,
   "metadata": {},
   "outputs": [
    {
     "name": "stdout",
     "output_type": "stream",
     "text": [
      "hello , good morning \n"
     ]
    }
   ],
   "source": [
    "#casefold()  -- Make the sentence in lower case\n",
    "str1=\"Hello , Good Morning \"\n",
    "m=str1.casefold()\n",
    "print(m)\n"
   ]
  },
  {
   "cell_type": "code",
   "execution_count": null,
   "metadata": {},
   "outputs": [],
   "source": [
    "#count() -- Return the number of times the value \"apple\" appears in the string\n",
    "txt = \"I love apples, apple are my favorite fruit\"\n",
    "x = txt.count(\"apple\")\n",
    "print(x)\n"
   ]
  },
  {
   "cell_type": "code",
   "execution_count": 2,
   "metadata": {},
   "outputs": [
    {
     "name": "stdout",
     "output_type": "stream",
     "text": [
      "True\n"
     ]
    }
   ],
   "source": [
    "#The endswith() method returns True if the string ends with the specified value, otherwise False.\n",
    "txt = \"Hello, welcome to my world.\"\n",
    "x = txt.endswith(\"d\")  #False\n",
    "x = txt.endswith(\".\")  #True\n",
    "print(x)\n"
   ]
  },
  {
   "cell_type": "code",
   "execution_count": 4,
   "metadata": {},
   "outputs": [
    {
     "name": "stdout",
     "output_type": "stream",
     "text": [
      "H   e   l   l   o\n"
     ]
    }
   ],
   "source": [
    "#The expandtabs() method sets the tab size to the specified number of whitespaces.\n",
    "txt = \"H\\te\\tl\\tl\\to\"\n",
    "print(txt.expandtabs(4)) #expand the 4 whitespace"
   ]
  },
  {
   "cell_type": "code",
   "execution_count": 5,
   "metadata": {},
   "outputs": [
    {
     "name": "stdout",
     "output_type": "stream",
     "text": [
      "True\n"
     ]
    }
   ],
   "source": [
    "#The isalnum() method returns True if all the characters are alphanumeric, meaning alphabet letter (a-z) and numbers (0-9).\n",
    "txt = \"Company12\"\n",
    "x = txt.isalnum()  #boolean o/p\n",
    "print(x)"
   ]
  },
  {
   "cell_type": "code",
   "execution_count": 9,
   "metadata": {},
   "outputs": [
    {
     "name": "stdout",
     "output_type": "stream",
     "text": [
      "False\n",
      "True\n"
     ]
    }
   ],
   "source": [
    "#The isalpha() method returns True if all the characters are alphabet letters (a-z).\n",
    "txt = \"Company1\"\n",
    "x = txt.isalpha()\n",
    "print(x)\n",
    "\n",
    "\n",
    "txt1 = \"companyX\"\n",
    "x=txt1.isalpha()\n",
    "print(x)"
   ]
  },
  {
   "cell_type": "code",
   "execution_count": 10,
   "metadata": {},
   "outputs": [
    {
     "name": "stdout",
     "output_type": "stream",
     "text": [
      "True\n",
      "False\n"
     ]
    }
   ],
   "source": [
    "#The isdecimal() method returns True if all the characters are decimals (0-9).\n",
    "a = \"\\u0030\" #unicode for 0\n",
    "b = \"\\u0047\" #unicode for G\n",
    "print(a.isdecimal())\n",
    "print(b.isdecimal())\n"
   ]
  },
  {
   "cell_type": "code",
   "execution_count": 11,
   "metadata": {},
   "outputs": [
    {
     "name": "stdout",
     "output_type": "stream",
     "text": [
      "True\n",
      "False\n"
     ]
    }
   ],
   "source": [
    "#The isdigit() method returns True if all the characters are digits, otherwise False.\n",
    "txt = \"50800\"\n",
    "txt1 = '57921m'\n",
    "x = txt.isdigit()\n",
    "y = txt1.isdigit()\n",
    "print(x)\n",
    "print(y)"
   ]
  },
  {
   "cell_type": "code",
   "execution_count": 12,
   "metadata": {},
   "outputs": [
    {
     "name": "stdout",
     "output_type": "stream",
     "text": [
      "True\n",
      "True\n",
      "False\n",
      "False\n"
     ]
    }
   ],
   "source": [
    "\"\"\"\n",
    "The isidentifier() method returns True if the string is a valid identifier, otherwise False.\n",
    "A string is considered a valid identifier if it only contains alphanumeric letters (a-z) and (0-9), \n",
    "or underscores (_). A valid identifier cannot start with a number, or contain any spaces.\n",
    "\"\"\"\n",
    "a = \"MyFolder\"\n",
    "b = \"Demo002\"\n",
    "c = \"2bring\"\n",
    "d = \"my demo\"\n",
    "\n",
    "print(a.isidentifier())\n",
    "print(b.isidentifier())\n",
    "print(c.isidentifier())\n",
    "print(d.isidentifier())\n"
   ]
  },
  {
   "cell_type": "code",
   "execution_count": 13,
   "metadata": {},
   "outputs": [
    {
     "name": "stdout",
     "output_type": "stream",
     "text": [
      "True\n",
      "False\n"
     ]
    }
   ],
   "source": [
    "#The isnumeric() method returns True if all the characters are numeric (0-9), otherwise False.\n",
    "txt = \"565543\"\n",
    "x = txt.isnumeric()\n",
    "print(x)\n",
    "\n",
    "txt1 = \"565ab43\"\n",
    "x = txt1.isnumeric()\n",
    "print(x)\n"
   ]
  },
  {
   "cell_type": "code",
   "execution_count": 14,
   "metadata": {},
   "outputs": [
    {
     "name": "stdout",
     "output_type": "stream",
     "text": [
      "True\n",
      "False\n"
     ]
    }
   ],
   "source": [
    "#The isprintable() method returns True if all the characters are printable, otherwise False.\n",
    "txt = \"Hello! Are you #1?\"\n",
    "x = txt.isprintable()\n",
    "print(x)\n",
    "\n",
    "txt = \"Hello!\\nAre you #1?\"\n",
    "x = txt.isprintable()\n",
    "print(x)\n",
    "\n",
    "#The isspace() method returns True if all the characters in a string are whitespaces, otherwise False."
   ]
  },
  {
   "cell_type": "code",
   "execution_count": 16,
   "metadata": {},
   "outputs": [
    {
     "name": "stdout",
     "output_type": "stream",
     "text": [
      "('I could ', 'eat', ' bananas all day')\n"
     ]
    }
   ],
   "source": [
    "#The lstrip() method removes any leading characters (space is the default leading character to remove)\n",
    "\n",
    "#The partition() method searches for a specified string, and splits the string into a tuple containing three elements.\n",
    "txt = \"I could eat bananas all day\"\n",
    "x = txt.partition(\"eat\")\n",
    "print(x)\n"
   ]
  },
  {
   "cell_type": "code",
   "execution_count": null,
   "metadata": {},
   "outputs": [],
   "source": []
  }
 ],
 "metadata": {
  "kernelspec": {
   "display_name": "Python 3",
   "language": "python",
   "name": "python3"
  },
  "language_info": {
   "codemirror_mode": {
    "name": "ipython",
    "version": 3
   },
   "file_extension": ".py",
   "mimetype": "text/x-python",
   "name": "python",
   "nbconvert_exporter": "python",
   "pygments_lexer": "ipython3",
   "version": "3.7.6"
  }
 },
 "nbformat": 4,
 "nbformat_minor": 4
}
