{
 "cells": [
  {
   "cell_type": "code",
   "execution_count": 1,
   "metadata": {},
   "outputs": [
    {
     "name": "stdout",
     "output_type": "stream",
     "text": [
      "[24, 35, 9, 56, 12]\n"
     ]
    }
   ],
   "source": [
    "#1 swaping of list \n",
    "def swapList(newList): \n",
    "    size = len(newList) \n",
    "      \n",
    "    # Swapping  \n",
    "    temp = newList[0] \n",
    "    newList[0] = newList[size - 1] \n",
    "    newList[size - 1] = temp \n",
    "      \n",
    "    return newList \n",
    "\n",
    "newList = [12, 35, 9, 56, 24] \n",
    "  \n",
    "print(swapList(newList))"
   ]
  },
  {
   "cell_type": "code",
   "execution_count": 4,
   "metadata": {},
   "outputs": [
    {
     "name": "stdout",
     "output_type": "stream",
     "text": [
      "[8, 12, 20, 32]\n"
     ]
    }
   ],
   "source": [
    "#2 swap two elements in a list\n",
    "def swap2(list, pos1, pos2): \n",
    "      \n",
    "    list[pos1], list[pos2] = list[pos2], list[pos1] \n",
    "    return list\n",
    "\n",
    "List = [20, 12, 8, 32] \n",
    "pos1, pos2  = 1, 3\n",
    "  \n",
    "print(swap2(List, pos1-1, pos2-1)) \n"
   ]
  },
  {
   "cell_type": "code",
   "execution_count": 7,
   "metadata": {},
   "outputs": [
    {
     "name": "stdout",
     "output_type": "stream",
     "text": [
      "length of list  3\n"
     ]
    }
   ],
   "source": [
    "#3 find the length of the string\n",
    "a = [] \n",
    "a.append(\"Hi\")\n",
    "a.append(\"welcome to\")\n",
    "a.append(\"python\")\n",
    "print(\"length of list is \", len(a))"
   ]
  },
  {
   "cell_type": "code",
   "execution_count": 32,
   "metadata": {},
   "outputs": [
    {
     "name": "stdout",
     "output_type": "stream",
     "text": [
      "element exists \n",
      "Element exists\n"
     ]
    }
   ],
   "source": [
    "#4  check if element exists in list\n",
    "x = [12,5,7,9,5,6,1,2,3,4]\n",
    "#x = int(input(\"Enter the element to check in the list : \"))\n",
    "for i in x:\n",
    "    if(i == 9):\n",
    "        print(\"Element exists \")\n",
    "    \n",
    "    \n",
    "    #or \n",
    "    \n",
    "if( 9 in x):\n",
    "    print(\"Element exists\")\n",
    "else:\n",
    "    print(\"Elemeny not exists\")"
   ]
  },
  {
   "cell_type": "code",
   "execution_count": 2,
   "metadata": {},
   "outputs": [
    {
     "name": "stdout",
     "output_type": "stream",
     "text": [
      "[89, 76, 56, 24, 18]\n"
     ]
    }
   ],
   "source": [
    "#5 reverse the list\n",
    "def reverse(lst):\n",
    "    return [ele for ele in reversed(lst)]  #list comphrension \n",
    "lst= [18,24,56,76,89]\n",
    "print(reverse(lst))"
   ]
  },
  {
   "cell_type": "code",
   "execution_count": 12,
   "metadata": {},
   "outputs": [
    {
     "name": "stdout",
     "output_type": "stream",
     "text": [
      "Enter number which present in the given list : 7\n",
      " 7 has occcured 1 times \n"
     ]
    }
   ],
   "source": [
    "#6 Count occurrences of an element in a list\n",
    "def countlst(lst,x):\n",
    "    count = 0\n",
    "    for ele in lst :\n",
    "        if (ele == x):\n",
    "            count = count + 1\n",
    "        return count\n",
    "lst = [7,1,2,6,8,4,7,6,7]\n",
    "x = int(input(\"Enter number which present in the given list : \"))\n",
    "print(\" {} has occcured {} times \".format(x,countlst(lst,x)))"
   ]
  },
  {
   "cell_type": "code",
   "execution_count": 18,
   "metadata": {},
   "outputs": [
    {
     "name": "stdout",
     "output_type": "stream",
     "text": [
      "Sum of list elements is :  125\n"
     ]
    }
   ],
   "source": [
    "#7 addition of elements in the list\n",
    "ele=0\n",
    "total=0\n",
    "lst = [2,12,25,37,49]\n",
    "\n",
    "while(ele<len(lst)):\n",
    "    total = total + lst[ele]\n",
    "    ele += 1\n",
    "print(\"Sum of list elements is : \",total)"
   ]
  },
  {
   "cell_type": "code",
   "execution_count": 1,
   "metadata": {},
   "outputs": [
    {
     "name": "stdout",
     "output_type": "stream",
     "text": [
      "Multiplication elements in the list is : 180\n"
     ]
    }
   ],
   "source": [
    "#8 multiplication of elements in the list\n",
    "lst = [5,3,6,2]\n",
    "result = 1\n",
    "for i in lst:\n",
    "    result = result * i\n",
    "print(\"Multiplication elements in the list is :\", result)"
   ]
  },
  {
   "cell_type": "code",
   "execution_count": 3,
   "metadata": {},
   "outputs": [
    {
     "name": "stdout",
     "output_type": "stream",
     "text": [
      "Enter number of elements in list :  5\n",
      "Enter the number : 9\n",
      "[9]\n",
      "Enter the number : 6\n",
      "[9, 6]\n",
      "Enter the number : 12\n",
      "[9, 6, 12]\n",
      "Enter the number : 35\n",
      "[9, 6, 12, 35]\n",
      "Enter the number : 5\n",
      "[9, 6, 12, 35, 5]\n",
      "max element in the list is :  35\n"
     ]
    }
   ],
   "source": [
    "#9 smallest and max number in the list.\n",
    "lst = []\n",
    "num = int(input(\"Enter number of elements in list :  \"))\n",
    "for ele in range(1,num+1):\n",
    "    ele = int(input(\"Enter the number : \"))\n",
    "    lst.append(ele)\n",
    "    print(lst)\n",
    "print(\"max element in the list is : \",max(lst))"
   ]
  },
  {
   "cell_type": "code",
   "execution_count": 4,
   "metadata": {},
   "outputs": [
    {
     "name": "stdout",
     "output_type": "stream",
     "text": [
      "2 8 4 10 12 "
     ]
    }
   ],
   "source": [
    "#10 finding even number in list\n",
    "lst = [2,1,8,5,4,9,7,10,13,12]\n",
    "for i in lst:\n",
    "    if i%2 == 0 \n",
    "        print(i,end = ' ')\n",
    "        \n",
    "#using list comphrension \n",
    "#x = [i for i in lst if i % 2 == 0] \n",
    "#print(x)"
   ]
  },
  {
   "cell_type": "code",
   "execution_count": 5,
   "metadata": {},
   "outputs": [
    {
     "name": "stdout",
     "output_type": "stream",
     "text": [
      "Even numbers in the list:  5\n",
      "Odd numbers in the list:  5\n"
     ]
    }
   ],
   "source": [
    "#11  finding even and odd count\n",
    "# list of numbers \n",
    "lst = [2,1,8,5,4,9,7,10,13,12]\n",
    "even_count, odd_count = 0, 0\n",
    "  \n",
    "# iterating each number in list \n",
    "for num in lst: \n",
    "      \n",
    "    # checking condition \n",
    "    if num % 2 == 0: \n",
    "        even_count += 1\n",
    "    else: \n",
    "        odd_count += 1\n",
    "          \n",
    "print(\"Even numbers in the list: \", even_count) \n",
    "print(\"Odd numbers in the list: \", odd_count) "
   ]
  },
  {
   "cell_type": "code",
   "execution_count": 8,
   "metadata": {},
   "outputs": [
    {
     "name": "stdout",
     "output_type": "stream",
     "text": [
      "New list after removing all even numbers:  [11, 5, 17, 23, 78, 55]\n"
     ]
    }
   ],
   "source": [
    "#12 remove the element from the list which is divisible by 2\n",
    "# creating a list \n",
    "list1 = [11, 5, 17, 18, 23, 50,78,55]  \n",
    "  \n",
    "# Iterate each element in list \n",
    "# and add them in variale total \n",
    "for ele in list1: \n",
    "    if ele % 2 == 0: \n",
    "        list1.remove(ele) \n",
    "  \n",
    "# printing modified list \n",
    "print(\"list after removing the even numbers : \", list1)"
   ]
  },
  {
   "cell_type": "code",
   "execution_count": 5,
   "metadata": {},
   "outputs": [
    {
     "name": "stdout",
     "output_type": "stream",
     "text": [
      "Enter the start of range: 4\n",
      "Enter the end of range: 11\n",
      "4 6 8 10 "
     ]
    }
   ],
   "source": [
    "#13 Show all even number from the given range.\n",
    "start = int(input(\"Enter the start of range: \")) \n",
    "end = int(input(\"Enter the end of range: \")) \n",
    "# iterating each number in list \n",
    "for num in range(start, end+1): \n",
    "      \n",
    "    # checking condition \n",
    "    if num % 2 == 0: \n",
    "        print(num, end = \" \") "
   ]
  },
  {
   "cell_type": "code",
   "execution_count": 11,
   "metadata": {},
   "outputs": [
    {
     "name": "stdout",
     "output_type": "stream",
     "text": [
      "1 5 4 8 68 [1, 5, 4, 8, 68]\n"
     ]
    }
   ],
   "source": [
    "#14 print positve elements from the given list and \n",
    "# also use list comprehension\n",
    "x=[1,-2,5,-6,4,8,-10,68,-52,-12,-17]\n",
    "for num in x:\n",
    "    if(num>=0):\n",
    "        print(num,end= ' ')\n",
    "        \n",
    "        #or\n",
    "a = [num for num in x if(num>=0)]\n",
    "print(a)"
   ]
  },
  {
   "cell_type": "code",
   "execution_count": 12,
   "metadata": {},
   "outputs": [
    {
     "name": "stdout",
     "output_type": "stream",
     "text": [
      "Enter the start of range: -4\n",
      "Enter the end of range: 6\n",
      "0 1 2 3 4 5 6 "
     ]
    }
   ],
   "source": [
    "#15 display positive number\n",
    "start = int(input(\"Enter the start of range: \")) \n",
    "end = int(input(\"Enter the end of range: \")) \n",
    "  \n",
    "# iterating each number in list \n",
    "for num in range(start, end + 1): \n",
    "      \n",
    "    # checking condition \n",
    "    if num >= 0: \n",
    "        print(num, end = \" \") \n",
    "        \n",
    "        "
   ]
  },
  {
   "cell_type": "code",
   "execution_count": 14,
   "metadata": {},
   "outputs": [
    {
     "name": "stdout",
     "output_type": "stream",
     "text": [
      "[0, 1, 2, 3, 4, 5, 6]\n"
     ]
    }
   ],
   "source": [
    "#or \n",
    "x = [num for num in range(start, end + 1) if num >= 0]\n",
    "print(x)"
   ]
  },
  {
   "cell_type": "code",
   "execution_count": null,
   "metadata": {},
   "outputs": [],
   "source": []
  }
 ],
 "metadata": {
  "kernelspec": {
   "display_name": "Python 3",
   "language": "python",
   "name": "python3"
  },
  "language_info": {
   "codemirror_mode": {
    "name": "ipython",
    "version": 3
   },
   "file_extension": ".py",
   "mimetype": "text/x-python",
   "name": "python",
   "nbconvert_exporter": "python",
   "pygments_lexer": "ipython3",
   "version": "3.7.6"
  }
 },
 "nbformat": 4,
 "nbformat_minor": 4
}
