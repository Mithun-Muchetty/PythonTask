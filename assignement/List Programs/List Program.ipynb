{
 "cells": [
  {
   "cell_type": "code",
   "execution_count": 1,
   "metadata": {},
   "outputs": [
    {
     "name": "stdout",
     "output_type": "stream",
     "text": [
      "[24, 35, 9, 56, 12]\n"
     ]
    }
   ],
   "source": [
    "#1 swaping of list \n",
    "def swapList(newList): \n",
    "    size = len(newList) \n",
    "      \n",
    "    # Swapping  \n",
    "    temp = newList[0] \n",
    "    newList[0] = newList[size - 1] \n",
    "    newList[size - 1] = temp \n",
    "      \n",
    "    return newList \n",
    "\n",
    "newList = [12, 35, 9, 56, 24] \n",
    "  \n",
    "print(swapList(newList))"
   ]
  },
  {
   "cell_type": "code",
   "execution_count": 4,
   "metadata": {},
   "outputs": [
    {
     "name": "stdout",
     "output_type": "stream",
     "text": [
      "[8, 12, 20, 32]\n"
     ]
    }
   ],
   "source": [
    "#2 swap two elements in a list\n",
    "def swap2(list, pos1, pos2): \n",
    "      \n",
    "    list[pos1], list[pos2] = list[pos2], list[pos1] \n",
    "    return list\n",
    "\n",
    "List = [20, 12, 8, 32] \n",
    "pos1, pos2  = 1, 3\n",
    "  \n",
    "print(swap2(List, pos1-1, pos2-1)) \n"
   ]
  },
  {
   "cell_type": "code",
   "execution_count": 7,
   "metadata": {},
   "outputs": [
    {
     "name": "stdout",
     "output_type": "stream",
     "text": [
      "length of list  3\n"
     ]
    }
   ],
   "source": [
    "#3 find the length of the string\n",
    "a = [] \n",
    "a.append(\"Hi\")\n",
    "a.append(\"welcome to\")\n",
    "a.append(\"python\")\n",
    "print(\"length of list is \", len(a))"
   ]
  },
  {
   "cell_type": "code",
   "execution_count": 32,
   "metadata": {},
   "outputs": [
    {
     "name": "stdout",
     "output_type": "stream",
     "text": [
      "element exists \n",
      "Element exists\n"
     ]
    }
   ],
   "source": [
    "#4  check if element exists in list\n",
    "x = [12,5,7,9,5,6,1,2,3,4]\n",
    "#x = int(input(\"Enter the element to check in the list : \"))\n",
    "for i in x:\n",
    "    if(i == 9):\n",
    "        print(\"Element exists \")\n",
    "    \n",
    "    \n",
    "    #or \n",
    "    \n",
    "if( 9 in x):\n",
    "    print(\"Element exists\")\n",
    "else:\n",
    "    print(\"Elemeny not exists\")"
   ]
  },
  {
   "cell_type": "code",
   "execution_count": null,
   "metadata": {},
   "outputs": [],
   "source": [
    "#5 "
   ]
  }
 ],
 "metadata": {
  "kernelspec": {
   "display_name": "Python 3",
   "language": "python",
   "name": "python3"
  },
  "language_info": {
   "codemirror_mode": {
    "name": "ipython",
    "version": 3
   },
   "file_extension": ".py",
   "mimetype": "text/x-python",
   "name": "python",
   "nbconvert_exporter": "python",
   "pygments_lexer": "ipython3",
   "version": "3.7.6"
  }
 },
 "nbformat": 4,
 "nbformat_minor": 4
}
