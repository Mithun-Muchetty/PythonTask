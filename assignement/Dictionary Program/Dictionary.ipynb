{
 "cells": [
  {
   "cell_type": "code",
   "execution_count": 2,
   "metadata": {},
   "outputs": [
    {
     "name": "stdout",
     "output_type": "stream",
     "text": [
      "{(10, 20, 30): 0, (5, 2): 3}\n"
     ]
    }
   ],
   "source": [
    "#1 dictionary with keys having multiple inputs\n",
    "import random as rn \n",
    "  \n",
    "# creating an empty dictionary \n",
    "dict = {} \n",
    "  \n",
    "# Insert first triplet in dictionary \n",
    "x, y, z = 10, 20, 30\n",
    "dict[x, y, z] = x + y - z; \n",
    "  \n",
    "# Insert second triplet in dictionary \n",
    "x, y = 5, 2\n",
    "dict[x, y] = x - y \n",
    "  \n",
    "# print the dictionary \n",
    "print(dict) "
   ]
  },
  {
   "cell_type": "code",
   "execution_count": 4,
   "metadata": {},
   "outputs": [
    {
     "name": "stdout",
     "output_type": "stream",
     "text": [
      "Sum : 249\n"
     ]
    }
   ],
   "source": [
    "#2 finding sum from all dict items.\n",
    "def returnSum(myDict): \n",
    "      \n",
    "    sum = 0\n",
    "    for i in myDict: \n",
    "        sum = sum + myDict[i] \n",
    "      \n",
    "    return sum\n",
    " \n",
    "dict = {'a': 125, 'b':55, 'c':69} \n",
    "print(\"Sum :\", returnSum(dict)) "
   ]
  },
  {
   "cell_type": "code",
   "execution_count": 12,
   "metadata": {},
   "outputs": [
    {
     "name": "stdout",
     "output_type": "stream",
     "text": [
      "The list printed sorting by age: \n",
      "[{'name': 'mithun', 'age': 18}, {'name': 'anvesh', 'age': 19}, {'name': 'sambit', 'age': 20}]\n",
      "The list printed sorting by age and name: \n",
      "[{'name': 'anvesh', 'age': 19}, {'name': 'mithun', 'age': 18}, {'name': 'sambit', 'age': 20}]\n"
     ]
    }
   ],
   "source": [
    "#3 sorting using lambda\n",
    "lis = [{ \"name\" : \"mithun\", \"age\" : 18},  \n",
    "{ \"name\" : \"sambit\", \"age\" : 20 }, \n",
    "{ \"name\" : \"anvesh\" , \"age\" : 19 }]\n",
    "print(\"The list printed sorting by age: \")\n",
    "print(sorted(lis, key = lambda i: i['age']))\n",
    "\n",
    "print(\"The list printed sorting by age and name: \")\n",
    "print(sorted(lis, key = lambda i: ( i['name'])))"
   ]
  },
  {
   "cell_type": "code",
   "execution_count": 13,
   "metadata": {},
   "outputs": [
    {
     "name": "stdout",
     "output_type": "stream",
     "text": [
      "None\n",
      "{'d': 6, 'c': 5, 'a': 10, 'b': 8}\n"
     ]
    }
   ],
   "source": [
    "#4 merging of two dictionary\n",
    "def Merge(dict1, dict2): \n",
    "    return(dict2.update(dict1)) \n",
    "\n",
    "dict1 = {'a': 10, 'b': 8, 'c':5} \n",
    "dict2 = {'d': 6, 'c': 4} \n",
    "  \n",
    "print(Merge(dict1, dict2)) \n",
    "\n",
    "print(dict2) "
   ]
  },
  {
   "cell_type": "code",
   "execution_count": 39,
   "metadata": {},
   "outputs": [
    {
     "name": "stdout",
     "output_type": "stream",
     "text": [
      "john\n"
     ]
    }
   ],
   "source": [
    "#5 finding winner fron dict and countre \n",
    "from collections import Counter  \n",
    "  \n",
    "votes =['john','johnny','jackie','johnny','john','jackie', \n",
    "    'jamie','jamie','john','johnny','jamie','johnny','john']  \n",
    "  \n",
    "#Count the votes for persons and stores in the dictionary \n",
    "vote_count=Counter(votes) \n",
    "  \n",
    "#Find the maximum number of votes \n",
    "max_votes=max(vote_count.values()) \n",
    "  \n",
    "#Search for people having maximum votes and store in a list \n",
    "lst=[i for i in vote_count.keys() if vote_count[i]==max_votes] \n",
    "  \n",
    "#Sort the list and print lexicographical smallest name \n",
    "print(sorted(lst)[0]) "
   ]
  },
  {
   "cell_type": "code",
   "execution_count": 40,
   "metadata": {},
   "outputs": [
    {
     "name": "stdout",
     "output_type": "stream",
     "text": [
      "{0: 0, 1: 1, 2: 4, 3: 9, 4: 16, 5: 25}\n"
     ]
    }
   ],
   "source": [
    "#6Dictionary comphresion\n",
    "squares = {x: x*x for x in range(6)}\n",
    "\n",
    "print(squares)"
   ]
  },
  {
   "cell_type": "code",
   "execution_count": 42,
   "metadata": {},
   "outputs": [
    {
     "name": "stdout",
     "output_type": "stream",
     "text": [
      "Counter({'item1': 1150, 'item2': 300})\n"
     ]
    }
   ],
   "source": [
    "#7 cobines value in dict\n",
    "from collections import Counter\n",
    "item_list = [{'item': 'item1', 'amount': 400}, {'item': 'item2', 'amount': 300}, {'item': 'item1', 'amount': 750}]\n",
    "result = Counter()\n",
    "for d in item_list:\n",
    "    result[d['item']] += d['amount']\n",
    "print(result) \n"
   ]
  },
  {
   "cell_type": "code",
   "execution_count": 44,
   "metadata": {},
   "outputs": [
    {
     "name": "stdout",
     "output_type": "stream",
     "text": [
      "{'W': 1, 'e': 2, 'l': 1, 'c': 1, 'o': 3, 'm': 1, ' ': 2, 't': 2, 'p': 1, 'y': 1, 'h': 1, 'n': 1}\n"
     ]
    }
   ],
   "source": [
    "#8 dict form a string\n",
    "from collections import defaultdict, Counter\n",
    "str1 = 'Welcome to python' \n",
    "my_dict = {}\n",
    "for letter in str1:\n",
    "    my_dict[letter] = my_dict.get(letter, 0) + 1\n",
    "print(my_dict)"
   ]
  },
  {
   "cell_type": "code",
   "execution_count": 45,
   "metadata": {},
   "outputs": [
    {
     "name": "stdout",
     "output_type": "stream",
     "text": [
      "{1: {2: {3: {4: {}}}}}\n"
     ]
    }
   ],
   "source": [
    "#9 from list to nested dictionary\n",
    "num_list = [1, 2, 3, 4]\n",
    "new_dict = current = {}\n",
    "for name in num_list:\n",
    "    current[name] = {}\n",
    "    current = current[name]\n",
    "print(new_dict)"
   ]
  },
  {
   "cell_type": "code",
   "execution_count": 46,
   "metadata": {},
   "outputs": [
    {
     "name": "stdout",
     "output_type": "stream",
     "text": [
      "[{'id': 1, 'subject': 'math', 'V+VI': 76.0}, {'id': 2, 'subject': 'math', 'V+VI': 73.5}, {'id': 3, 'subject': 'math', 'V+VI': 80.5}]\n"
     ]
    }
   ],
   "source": [
    "#10 Replace dictionary values with their average\n",
    "def sum_math_v_vi_average(list_of_dicts):\n",
    "    for d in list_of_dicts:\n",
    "        n1 = d.pop('V')\n",
    "        n2 = d.pop('VI')\n",
    "        d['V+VI'] = (n1 + n2)/2\n",
    "    return list_of_dicts \n",
    "student_details= [\n",
    "  {'id' : 1, 'subject' : 'math', 'V' : 70, 'VI' : 82},\n",
    "  {'id' : 2, 'subject' : 'math', 'V' : 73, 'VI' : 74},\n",
    "  {'id' : 3, 'subject' : 'math', 'V' : 75, 'VI' : 86}\n",
    "]\n",
    "print(sum_math_v_vi_average(student_details))"
   ]
  },
  {
   "cell_type": "code",
   "execution_count": null,
   "metadata": {},
   "outputs": [],
   "source": []
  }
 ],
 "metadata": {
  "kernelspec": {
   "display_name": "Python 3",
   "language": "python",
   "name": "python3"
  },
  "language_info": {
   "codemirror_mode": {
    "name": "ipython",
    "version": 3
   },
   "file_extension": ".py",
   "mimetype": "text/x-python",
   "name": "python",
   "nbconvert_exporter": "python",
   "pygments_lexer": "ipython3",
   "version": "3.7.6"
  }
 },
 "nbformat": 4,
 "nbformat_minor": 4
}
