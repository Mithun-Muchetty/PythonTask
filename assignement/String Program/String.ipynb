{
 "cells": [
  {
   "cell_type": "code",
   "execution_count": 7,
   "metadata": {},
   "outputs": [
    {
     "name": "stdout",
     "output_type": "stream",
     "text": [
      "Enter the String to check palindromefish\n",
      "Given string is not palindrome\n"
     ]
    }
   ],
   "source": [
    "#1 finding palindrome\n",
    "def ispalindrome(s):\n",
    "    return s == s[ : : -1]\n",
    "s = input(\"Enter the String to check palindrome\")\n",
    "a = ispalindrome(s)\n",
    "if a:\n",
    "    print(\"Given string is palindrome\")\n",
    "else:\n",
    "    print(\"Given string is not palindrome\")"
   ]
  },
  {
   "cell_type": "code",
   "execution_count": 9,
   "metadata": {},
   "outputs": [
    {
     "name": "stdout",
     "output_type": "stream",
     "text": [
      "code practice quiz geeks\n"
     ]
    }
   ],
   "source": [
    "#2 Reverse the string\n",
    "def rev_sentence(sentence): \n",
    "  \n",
    "    # first split the string into words \n",
    "    words = sentence.split(' ')  \n",
    "  \n",
    "    # then reverse the split string list and join using space \n",
    "    reverse_sentence = ' '.join(reversed(words))  \n",
    "  \n",
    "    # finally return the joined string \n",
    "    return reverse_sentence   \n",
    "  \n",
    "#__name__ is a built-in variable in python that stores the name of the current module/script being executed\n",
    "#If the current module is executing then the __name__ variable is assigned the value __main__ \n",
    "#otherwise it simply contains the name of the module or script.\n",
    "\n",
    "if __name__ == \"__main__\":   \n",
    "    input = 'geeks quiz practice code'\n",
    "    print(rev_sentence(input) )"
   ]
  },
  {
   "cell_type": "code",
   "execution_count": 4,
   "metadata": {},
   "outputs": [
    {
     "name": "stdout",
     "output_type": "stream",
     "text": [
      "Enter the string the to check the length : MIthun Muchetty\n",
      "length of the given string is : 15\n"
     ]
    }
   ],
   "source": [
    "#3 find length of the string\n",
    "def fnlen(str):\n",
    "    counter = 0\n",
    "    for i in str:\n",
    "        counter += 1\n",
    "    return counter \n",
    "str = input(\"Enter the string the to check the length : \")\n",
    "print(\"length of the given string is :\", fnlen(str))"
   ]
  },
  {
   "cell_type": "code",
   "execution_count": 6,
   "metadata": {},
   "outputs": [
    {
     "name": "stdout",
     "output_type": "stream",
     "text": [
      "Enter the string : mithun Muchetty\n",
      "vowels in given string is :  4\n"
     ]
    }
   ],
   "source": [
    "#4 find the vowels in given string\n",
    "def countvow(str):\n",
    "    count = 0\n",
    "    vowel = set(\"aeiouAEIOU\")\n",
    "    for alpha in str:\n",
    "        if alpha in vowel:\n",
    "            count = count + 1\n",
    "    print(\"vowels in given string is : \",count)\n",
    "str = input(\"Enter the string : \") \n",
    "countvow(str)"
   ]
  },
  {
   "cell_type": "code",
   "execution_count": 11,
   "metadata": {},
   "outputs": [
    {
     "name": "stdout",
     "output_type": "stream",
     "text": [
      "['Welcome', 'to', 'Python']\n",
      "Welcome to Python\n"
     ]
    }
   ],
   "source": [
    "#5 String split and join \n",
    "\n",
    "def splstr(string):\n",
    "    str = string.split(' ')\n",
    "    return str\n",
    "def jostr(str):\n",
    "    string = ' '.join(str)\n",
    "    return string\n",
    "if __name__ == '__main__':\n",
    "    string = 'Welcome to Python'\n",
    "    #split the string \n",
    "    str = splstr(string)\n",
    "    print(str)\n",
    "    \n",
    "    #join the string\n",
    "    new = jostr(str)\n",
    "    print(new)"
   ]
  },
  {
   "cell_type": "code",
   "execution_count": 2,
   "metadata": {},
   "outputs": [
    {
     "name": "stdout",
     "output_type": "stream",
     "text": [
      "Enter the string which have only binary : 101110100\n",
      "given string have binary \n"
     ]
    }
   ],
   "source": [
    "#6 given string is binary string or not\n",
    "def chk(str):\n",
    "    a = set(str) #converts string to set of char\n",
    "    b = {'0','1'}\n",
    "    if a == b or a == {'0'} or a == {'1'}:\n",
    "        print(\"given string have binary \")\n",
    "    else:\n",
    "        print(\"Given string not have binary \")\n",
    "    \n",
    "if __name__ == '__main__':\n",
    "    str = input(\"Enter the string which have only binary : \")\n",
    "chk(str)\n"
   ]
  },
  {
   "cell_type": "code",
   "execution_count": 1,
   "metadata": {},
   "outputs": [
    {
     "name": "stdout",
     "output_type": "stream",
     "text": [
      "ABC\n",
      "ACB\n",
      "BAC\n",
      "BCA\n",
      "CAB\n",
      "CBA\n"
     ]
    }
   ],
   "source": [
    "#7 Function to find permutations of a given string \n",
    "from itertools import permutations \n",
    "  \n",
    "def allPermutations(str): \n",
    "       \n",
    "     # Get all permutations of string 'ABC' \n",
    "     permList = permutations(str) \n",
    "  \n",
    "     # print all permutations \n",
    "     for perm in list(permList): \n",
    "         print (''.join(perm)) \n",
    "\n",
    "if __name__ == \"__main__\": \n",
    "    str = 'ABC'\n",
    "    allPermutations(str) "
   ]
  },
  {
   "cell_type": "code",
   "execution_count": 5,
   "metadata": {},
   "outputs": [
    {
     "name": "stdout",
     "output_type": "stream",
     "text": [
      "String is not accepted.\n"
     ]
    }
   ],
   "source": [
    "#8 Function checks if the string   contains any special character\n",
    "# import required package \n",
    "import re \n",
    "  \n",
    "def run(string): \n",
    "  \n",
    "    # Make own character set and pass this as argument in compile method \n",
    "    regex = re.compile('[@_!#$%^&*()<>?/\\|}{~:]') \n",
    "      \n",
    "    # Pass the string in search method of regex object.     \n",
    "    if(regex.search(string) == None): \n",
    "        print(\"String is accepted\") \n",
    "    else: \n",
    "        print(\"String is not accepted.\") \n",
    "\n",
    "if __name__ == '__main__' : \n",
    "      \n",
    "    # Enter the string \n",
    "    string = \"Geeks%ForGeeks\"\n",
    "      \n",
    "    # calling run function  \n",
    "    run(string) "
   ]
  },
  {
   "cell_type": "code",
   "execution_count": 21,
   "metadata": {},
   "outputs": [
    {
     "name": "stdout",
     "output_type": "stream",
     "text": [
      "14. 625. 498,002\n"
     ]
    }
   ],
   "source": [
    "#9 Swap commas and dots in a String\n",
    "def Replace(str1): \n",
    "    maketrans = str1.maketrans \n",
    "    final = str1.translate(maketrans(',.', '.,')) \n",
    "    return final \n",
    "\n",
    "string = \"14, 625, 498.002\"\n",
    "print(Replace(string)) "
   ]
  },
  {
   "cell_type": "code",
   "execution_count": 25,
   "metadata": {},
   "outputs": [
    {
     "name": "stdout",
     "output_type": "stream",
     "text": [
      "am\n",
      "come\n",
      "to\n",
      "python\n"
     ]
    }
   ],
   "source": [
    "#10 print the even length words in string\n",
    "def printWords(s): \n",
    "      \n",
    "    # split the string  \n",
    "    s = s.split(' ')  \n",
    "      \n",
    "    # iterate in words of string  \n",
    "    for word in s:  \n",
    "          \n",
    "         if len(word)%2==0: \n",
    "            print(word)  \n",
    "\n",
    "s = \"i am mithun, wel come to python\" \n",
    "printWords(s)"
   ]
  },
  {
   "cell_type": "code",
   "execution_count": null,
   "metadata": {},
   "outputs": [],
   "source": []
  }
 ],
 "metadata": {
  "kernelspec": {
   "display_name": "Python 3",
   "language": "python",
   "name": "python3"
  },
  "language_info": {
   "codemirror_mode": {
    "name": "ipython",
    "version": 3
   },
   "file_extension": ".py",
   "mimetype": "text/x-python",
   "name": "python",
   "nbconvert_exporter": "python",
   "pygments_lexer": "ipython3",
   "version": "3.7.6"
  }
 },
 "nbformat": 4,
 "nbformat_minor": 4
}
