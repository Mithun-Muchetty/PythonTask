{
 "cells": [
  {
   "cell_type": "code",
   "execution_count": 1,
   "metadata": {},
   "outputs": [
    {
     "name": "stdout",
     "output_type": "stream",
     "text": [
      "Addition of num1 and num2 is  33\n"
     ]
    }
   ],
   "source": [
    "#1  addition \n",
    "num1 = 25\n",
    "num2 = 8\n",
    "\n",
    "sum = num1 + num2\n",
    "print(\"Addition of num1 and num2 is \", sum)"
   ]
  },
  {
   "cell_type": "code",
   "execution_count": 8,
   "metadata": {},
   "outputs": [
    {
     "name": "stdout",
     "output_type": "stream",
     "text": [
      "Enter first num : 5\n",
      "Enter second num : 9\n",
      "pick a number 1 to 4 for arithmetic operation 5\n",
      "Invalid selection\n"
     ]
    }
   ],
   "source": [
    "#2  using user input adding two numbers\n",
    "num1 = int(input(\"Enter first num : \"))\n",
    "num2 = int(input(\"Enter second num : \"))\n",
    "\n",
    "press= input(\"pick a number 1 to 4 for arithmetic operation \")\n",
    "\n",
    "if (press == '1'):\n",
    " result = num1+num2\n",
    " print(\"Addition of {} and {} is {}\".format(num1,num2,result))\n",
    "elif(press == '2'):\n",
    " result = num1-num2\n",
    " print(\"Suntraction of {} and {} is {}\".format(num1,num2,result))\n",
    "elif(press == '3'):\n",
    " result = num1*num2\n",
    " print(\"Multiplcation of {} and {} is {}\".format(num1,num2,result))\n",
    "elif(press == '4'):\n",
    " result = num1/num2\n",
    " print(\"Division of {} and {} is {}\".format(num1,num2,result))\n",
    "else:\n",
    "    print(\"Invalid selection\")"
   ]
  },
  {
   "cell_type": "code",
   "execution_count": 9,
   "metadata": {},
   "outputs": [
    {
     "name": "stdout",
     "output_type": "stream",
     "text": [
      "simple interest is  0.48\n"
     ]
    }
   ],
   "source": [
    "#3 Simple interest\n",
    "# p -- principal\n",
    "# r -- rate\n",
    "# t -- time\n",
    "def si(p, t, r):\n",
    "    si= (p*t*r)/100\n",
    "    print(\"simple interest is \",si)\n",
    "si(2,6,4)\n",
    "    \n"
   ]
  },
  {
   "cell_type": "code",
   "execution_count": 13,
   "metadata": {},
   "outputs": [
    {
     "name": "stdout",
     "output_type": "stream",
     "text": [
      "Compound internest is  1345.8683383241298\n"
     ]
    }
   ],
   "source": [
    "#4 compund interest\n",
    "def ci(p,t,r):\n",
    "    ci = p*(pow((1+r/100),t))\n",
    "    print(\"Compound internest is \",ci)\n",
    "ci(1000,15,2)"
   ]
  },
  {
   "cell_type": "code",
   "execution_count": 14,
   "metadata": {},
   "outputs": [
    {
     "name": "stdout",
     "output_type": "stream",
     "text": [
      "Area of circle is :  50.272\n"
     ]
    }
   ],
   "source": [
    "#5 Area of circle\n",
    "def area(r):\n",
    "    pi = 3.142\n",
    "    area = pi* r * r\n",
    "    print(\"Area of circle is : \", area)\n",
    "area(4)"
   ]
  },
  {
   "cell_type": "code",
   "execution_count": 34,
   "metadata": {},
   "outputs": [
    {
     "name": "stdout",
     "output_type": "stream",
     "text": [
      "Enter number : 11\n",
      "11 is a prime number\n"
     ]
    }
   ],
   "source": [
    "#6 check whether given number is prime ot not\n",
    "\n",
    "num = int(input(\"Enter number : \"))\n",
    "  \n",
    "# If given number is greater than 1 \n",
    "if num > 1: \n",
    "      \n",
    "   # Iterate from 2 to n / 2  \n",
    "   for i in range(2, num): \n",
    "         \n",
    "       # If num is divisible by any number between  \n",
    "       # 2 and n / 2, it is not prime  \n",
    "       if (num % i) == 0: \n",
    "           print(num, \"is not a prime number\") \n",
    "           break\n",
    "   else: \n",
    "       print(num, \"is a prime number\") \n",
    "  \n",
    "else: \n",
    "   print(num, \"is not a prime number\") \n"
   ]
  },
  {
   "cell_type": "code",
   "execution_count": 37,
   "metadata": {},
   "outputs": [
    {
     "name": "stdout",
     "output_type": "stream",
     "text": [
      "21\n"
     ]
    }
   ],
   "source": [
    "#7 Fibonacci\n",
    "def Fibonacci(n): \n",
    "    if n<0: \n",
    "        print(\"Incorrect input\") \n",
    "    # First Fibonacci number is 0 \n",
    "    elif n==1: \n",
    "        return 0\n",
    "    # Second Fibonacci number is 1 \n",
    "    elif n==2: \n",
    "        return 1\n",
    "    else: \n",
    "        return Fibonacci(n-1)+Fibonacci(n-2) \n",
    "  \n",
    "# Driver Program \n",
    "  \n",
    "print(Fibonacci(9)) "
   ]
  },
  {
   "cell_type": "code",
   "execution_count": 3,
   "metadata": {},
   "outputs": [
    {
     "name": "stdout",
     "output_type": "stream",
     "text": [
      "Enter char to find the ASCII value : A\n",
      "The ASCII value of 'A' is 65\n"
     ]
    }
   ],
   "source": [
    "#8 ASCII value of a character\n",
    "# ord() : It coverts the given string of length one, return an integer representing the unicode code point of the character.\n",
    "char = input(\"Enter char to find the ASCII value : \")\n",
    "print(\"The ASCII value of '\" + char + \"' is\", ord(char))"
   ]
  },
  {
   "cell_type": "code",
   "execution_count": 6,
   "metadata": {},
   "outputs": [
    {
     "name": "stdout",
     "output_type": "stream",
     "text": [
      "55\n"
     ]
    }
   ],
   "source": [
    "#9 Sum of squares of first n natural numbers\n",
    "def squaresum(n) : \n",
    "    return (n * (n + 1) * (2 * n + 1)) // 6 # for finding first sum n natural no\n",
    "  \n",
    "print(squaresum(5))"
   ]
  },
  {
   "cell_type": "code",
   "execution_count": 10,
   "metadata": {},
   "outputs": [
    {
     "name": "stdout",
     "output_type": "stream",
     "text": [
      "Enter the number to fine the cube : 9\n",
      "Cube of 9 is :729 \n"
     ]
    }
   ],
   "source": [
    "#10 find the cube of given no.\n",
    "num = int(input(\"Enter the number to fine the cube : \"))\n",
    "result = num ** 3\n",
    "print(\"Cube of {} is :{} \".format(num,result))"
   ]
  },
  {
   "cell_type": "code",
   "execution_count": 11,
   "metadata": {},
   "outputs": [
    {
     "name": "stdout",
     "output_type": "stream",
     "text": [
      "Enter the number to fine the square : 25\n",
      "square of 25 is :625 \n"
     ]
    }
   ],
   "source": [
    "#11 find the square of given number\n",
    "num = int(input(\"Enter the number to fine the square : \"))\n",
    "result = num ** 2\n",
    "print(\"square of {} is :{} \".format(num,result))"
   ]
  },
  {
   "cell_type": "code",
   "execution_count": 13,
   "metadata": {},
   "outputs": [
    {
     "name": "stdout",
     "output_type": "stream",
     "text": [
      "Enter the number : 8\n",
      "8  is even \n"
     ]
    }
   ],
   "source": [
    "#12 Find the given no is even or odd\n",
    "num = int(input(\"Enter the number : \"))\n",
    "result = num%2 \n",
    "if (result==0):\n",
    "    print(num,\" is even \")\n",
    "else:\n",
    "    print(num,\" is odd\")"
   ]
  },
  {
   "cell_type": "code",
   "execution_count": 16,
   "metadata": {},
   "outputs": [
    {
     "name": "stdout",
     "output_type": "stream",
     "text": [
      "Enter the chat t find the vowel or constant : e\n",
      "Entered character is vowel \n"
     ]
    }
   ],
   "source": [
    "#13 find the given char is vowel or constant\n",
    "char = input(\"Enter the chat t find the vowel or constant : \")\n",
    "if (char== 'A' or char == 'a' or char == 'E' or char == 'e' or char == 'i' or char == 'I' or char == 'o' and char == 'O'\n",
    "   and  char == 'u' and char == 'U' ):\n",
    "    print(\"Entered character is vowel \")\n",
    "else:\n",
    "    print(\"Enter character is constant\")"
   ]
  },
  {
   "cell_type": "code",
   "execution_count": 24,
   "metadata": {},
   "outputs": [
    {
     "name": "stdout",
     "output_type": "stream",
     "text": [
      "Enter the string mango\n",
      "Given string is not a palindrome \n"
     ]
    }
   ],
   "source": [
    "#14 Given string is palindrome\n",
    "char = input(\"Enter the string \").casefold()\n",
    "\n",
    "revstr =  reversed(char)\n",
    "if(list(char) == list(revstr)):\n",
    "    print(\"Given string is a palinfdrome \")\n",
    "else:\n",
    "    print(\"Given string is not a palindrome \")"
   ]
  },
  {
   "cell_type": "code",
   "execution_count": 29,
   "metadata": {},
   "outputs": [
    {
     "name": "stdout",
     "output_type": "stream",
     "text": [
      "Example\n",
      "Hello\n",
      "Is\n",
      "With\n",
      "an\n",
      "cased\n",
      "letters\n",
      "this\n"
     ]
    }
   ],
   "source": [
    "#15 sort alphabetically the words\n",
    "str = \"Hello this Is an Example With cased letters\"\n",
    "wr = str.split()\n",
    "wr.sort()\n",
    "for word in wr:\n",
    "    print( word)\n",
    "\n"
   ]
  },
  {
   "cell_type": "code",
   "execution_count": 10,
   "metadata": {},
   "outputs": [
    {
     "name": "stdout",
     "output_type": "stream",
     "text": [
      "Enter number1 : 4\n",
      "Enter number2 : 3\n",
      "Enter number3 : 1\n",
      "Largest num is : 4\n"
     ]
    }
   ],
   "source": [
    "#16 find the largest number in given number \n",
    "num1 = int(input(\"Enter number1 : \"))\n",
    "num2 = int(input(\"Enter number2 : \"))\n",
    "num3 = int(input(\"Enter number3 : \"))\n",
    "if (num1 >= num2) and (num1 >= num3):\n",
    "    largest = num1\n",
    "elif (num2 >= num1) and (num2 >= num3):\n",
    "    largest = num2\n",
    "else:\n",
    "    largest = num3\n",
    "print(\"Largest num is :\",largest)"
   ]
  },
  {
   "cell_type": "code",
   "execution_count": null,
   "metadata": {},
   "outputs": [],
   "source": []
  }
 ],
 "metadata": {
  "kernelspec": {
   "display_name": "Python 3",
   "language": "python",
   "name": "python3"
  },
  "language_info": {
   "codemirror_mode": {
    "name": "ipython",
    "version": 3
   },
   "file_extension": ".py",
   "mimetype": "text/x-python",
   "name": "python",
   "nbconvert_exporter": "python",
   "pygments_lexer": "ipython3",
   "version": "3.7.6"
  }
 },
 "nbformat": 4,
 "nbformat_minor": 4
}
