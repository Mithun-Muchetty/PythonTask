{
 "cells": [
  {
   "cell_type": "code",
   "execution_count": 1,
   "metadata": {},
   "outputs": [],
   "source": [
    "#Function\n",
    "#function are block of reusable code which executes when it called.\n",
    "\n",
    "# syntax\n",
    "\"\"\"\n",
    "def function_name():\n",
    "    statement 1\n",
    "    statement 2\n",
    "    ...\n",
    "    ...\n",
    "    ...\n",
    "    statement n\n",
    "\"\"\""
   ]
  },
  {
   "cell_type": "code",
   "execution_count": 5,
   "metadata": {},
   "outputs": [
    {
     "name": "stdout",
     "output_type": "stream",
     "text": [
      "Hello\n",
      "Welcome to python\n"
     ]
    }
   ],
   "source": [
    "# Defining a function\n",
    "def demo():\n",
    " print (\"Hello\")\n",
    " print (\"Welcome to python\")\n",
    "    \n",
    "\n",
    "# calling the function\n",
    "demo()"
   ]
  },
  {
   "cell_type": "code",
   "execution_count": 11,
   "metadata": {},
   "outputs": [
    {
     "name": "stdout",
     "output_type": "stream",
     "text": [
      "14\n"
     ]
    }
   ],
   "source": [
    "#Ex #Adding two numberz\n",
    "def add():\n",
    " a=5\n",
    " b=9\n",
    " c=a+b\n",
    " print(c)\n",
    "    \n",
    "add()"
   ]
  },
  {
   "cell_type": "code",
   "execution_count": 12,
   "metadata": {},
   "outputs": [
    {
     "name": "stdout",
     "output_type": "stream",
     "text": [
      "15\n"
     ]
    }
   ],
   "source": [
    "#Passing parameters/arguments to function\n",
    "#Ex1)you can pass numbers\n",
    "def add(a,b):\n",
    " c=a+b\n",
    " print(c)\n",
    "\n",
    "add(10,5)"
   ]
  },
  {
   "cell_type": "code",
   "execution_count": 13,
   "metadata": {},
   "outputs": [
    {
     "name": "stdout",
     "output_type": "stream",
     "text": [
      "Hello mithun\n"
     ]
    }
   ],
   "source": [
    "#Ex2) you can pass strings\n",
    "def func(name):\n",
    "    print(\"Hello {}\".format(name))\n",
    "func(\"mithun\")"
   ]
  },
  {
   "cell_type": "code",
   "execution_count": 15,
   "metadata": {},
   "outputs": [
    {
     "name": "stdout",
     "output_type": "stream",
     "text": [
      "1\n",
      "2\n",
      "8\n",
      "6\n",
      "4\n",
      "2\n",
      "5\n"
     ]
    }
   ],
   "source": [
    "#Ex3) you can pass list \n",
    "def func(list1):\n",
    " for i in list1:\n",
    "  print(i)\n",
    "\n",
    "func([1,2,8,6,4,2,5])"
   ]
  },
  {
   "cell_type": "code",
   "execution_count": 23,
   "metadata": {},
   "outputs": [
    {
     "name": "stdout",
     "output_type": "stream",
     "text": [
      "Hero\n",
      "splendor\n",
      "2010\n",
      "mate black\n"
     ]
    }
   ],
   "source": [
    "#ex4 you can pass dict\n",
    "def func():\n",
    " x= dict(brand='Hero', model='splendor', year=2010, color='mate black')\n",
    " for i in x.values():\n",
    "   print (i)\n",
    "\n",
    "func()"
   ]
  },
  {
   "cell_type": "code",
   "execution_count": 24,
   "metadata": {},
   "outputs": [
    {
     "name": "stdout",
     "output_type": "stream",
     "text": [
      "('brand', 'Hero')\n",
      "('model', 'splendor')\n",
      "('year', 2010)\n",
      "('color', 'mate black')\n"
     ]
    }
   ],
   "source": [
    "def func():\n",
    " x= dict(brand='Hero', model='splendor', year=2010, color='mate black')\n",
    " for i in x.items():\n",
    "   print (i)\n",
    "\n",
    "func()"
   ]
  },
  {
   "cell_type": "code",
   "execution_count": 44,
   "metadata": {},
   "outputs": [
    {
     "name": "stdout",
     "output_type": "stream",
     "text": [
      "5\n",
      "8\n",
      "7\n",
      "hello\n",
      "true\n",
      "1\n",
      "2\n",
      "4\n"
     ]
    }
   ],
   "source": [
    "#ex5 you can pass tuple\n",
    "def func(tuplx):\n",
    " for i in tuplx:\n",
    "   print(i)\n",
    "\n",
    "func((5,8,7,\"hello\",'true',1,2,4))\n",
    " "
   ]
  },
  {
   "cell_type": "code",
   "execution_count": 46,
   "metadata": {},
   "outputs": [
    {
     "ename": "TypeError",
     "evalue": "'set' object is not subscriptable",
     "output_type": "error",
     "traceback": [
      "\u001b[1;31m---------------------------------------------------------------------------\u001b[0m",
      "\u001b[1;31mTypeError\u001b[0m                                 Traceback (most recent call last)",
      "\u001b[1;32m<ipython-input-46-8cca86921f15>\u001b[0m in \u001b[0;36m<module>\u001b[1;34m\u001b[0m\n\u001b[0;32m      3\u001b[0m  \u001b[1;32mfor\u001b[0m \u001b[0mi\u001b[0m \u001b[1;32min\u001b[0m \u001b[0ma\u001b[0m\u001b[1;33m[\u001b[0m\u001b[1;36m2\u001b[0m\u001b[1;33m]\u001b[0m\u001b[1;33m:\u001b[0m\u001b[1;33m\u001b[0m\u001b[1;33m\u001b[0m\u001b[0m\n\u001b[0;32m      4\u001b[0m   \u001b[0mprint\u001b[0m\u001b[1;33m(\u001b[0m\u001b[0mi\u001b[0m\u001b[1;33m)\u001b[0m\u001b[1;33m\u001b[0m\u001b[1;33m\u001b[0m\u001b[0m\n\u001b[1;32m----> 5\u001b[1;33m \u001b[0mfunc\u001b[0m\u001b[1;33m(\u001b[0m\u001b[1;33m{\u001b[0m\u001b[1;36m1\u001b[0m\u001b[1;33m,\u001b[0m\u001b[1;36m8\u001b[0m\u001b[1;33m,\u001b[0m\u001b[1;36m3\u001b[0m\u001b[1;33m,\u001b[0m\u001b[1;36m4\u001b[0m\u001b[1;33m,\u001b[0m\u001b[1;34m\"hi\"\u001b[0m\u001b[1;33m,\u001b[0m\u001b[1;34m'python'\u001b[0m\u001b[1;33m}\u001b[0m\u001b[1;33m)\u001b[0m\u001b[1;33m\u001b[0m\u001b[1;33m\u001b[0m\u001b[0m\n\u001b[0m",
      "\u001b[1;32m<ipython-input-46-8cca86921f15>\u001b[0m in \u001b[0;36mfunc\u001b[1;34m(a)\u001b[0m\n\u001b[0;32m      1\u001b[0m \u001b[1;31m#ex6 you can pass sets\u001b[0m\u001b[1;33m\u001b[0m\u001b[1;33m\u001b[0m\u001b[1;33m\u001b[0m\u001b[0m\n\u001b[0;32m      2\u001b[0m \u001b[1;32mdef\u001b[0m \u001b[0mfunc\u001b[0m\u001b[1;33m(\u001b[0m\u001b[0ma\u001b[0m\u001b[1;33m)\u001b[0m\u001b[1;33m:\u001b[0m\u001b[1;33m\u001b[0m\u001b[1;33m\u001b[0m\u001b[0m\n\u001b[1;32m----> 3\u001b[1;33m  \u001b[1;32mfor\u001b[0m \u001b[0mi\u001b[0m \u001b[1;32min\u001b[0m \u001b[0ma\u001b[0m\u001b[1;33m[\u001b[0m\u001b[1;36m2\u001b[0m\u001b[1;33m]\u001b[0m\u001b[1;33m:\u001b[0m\u001b[1;33m\u001b[0m\u001b[1;33m\u001b[0m\u001b[0m\n\u001b[0m\u001b[0;32m      4\u001b[0m   \u001b[0mprint\u001b[0m\u001b[1;33m(\u001b[0m\u001b[0mi\u001b[0m\u001b[1;33m)\u001b[0m\u001b[1;33m\u001b[0m\u001b[1;33m\u001b[0m\u001b[0m\n\u001b[0;32m      5\u001b[0m \u001b[0mfunc\u001b[0m\u001b[1;33m(\u001b[0m\u001b[1;33m{\u001b[0m\u001b[1;36m1\u001b[0m\u001b[1;33m,\u001b[0m\u001b[1;36m8\u001b[0m\u001b[1;33m,\u001b[0m\u001b[1;36m3\u001b[0m\u001b[1;33m,\u001b[0m\u001b[1;36m4\u001b[0m\u001b[1;33m,\u001b[0m\u001b[1;34m\"hi\"\u001b[0m\u001b[1;33m,\u001b[0m\u001b[1;34m'python'\u001b[0m\u001b[1;33m}\u001b[0m\u001b[1;33m)\u001b[0m\u001b[1;33m\u001b[0m\u001b[1;33m\u001b[0m\u001b[0m\n",
      "\u001b[1;31mTypeError\u001b[0m: 'set' object is not subscriptable"
     ]
    }
   ],
   "source": [
    "#ex6 you can pass sets \n",
    "def func(a):\n",
    " for i in a:  #how to acccess the elemnte with for loop.\n",
    "  print(i)\n",
    "func({1,8,3,4,\"hi\",'python'})"
   ]
  },
  {
   "cell_type": "code",
   "execution_count": 49,
   "metadata": {},
   "outputs": [
    {
     "data": {
      "text/plain": [
       "15"
      ]
     },
     "execution_count": 49,
     "metadata": {},
     "output_type": "execute_result"
    }
   ],
   "source": [
    "\"\"\"\n",
    "return keyword\n",
    "return keyword can be used to return values from a function\n",
    "it can be used to end the execution of a function\n",
    "statements below return keyword will not get executed\n",
    "\"\"\"\n",
    "# Ex1) returning sum\n",
    "def add(x,y):\n",
    "    z = x + y\n",
    "    return z\n",
    "    print(z) #will not be executed\n",
    "\n",
    "#add(10,5)"
   ]
  },
  {
   "cell_type": "code",
   "execution_count": 53,
   "metadata": {},
   "outputs": [
    {
     "data": {
      "text/plain": [
       "100"
      ]
     },
     "execution_count": 53,
     "metadata": {},
     "output_type": "execute_result"
    }
   ],
   "source": [
    "a= add(5,5)\n",
    "a + 80 +10"
   ]
  },
  {
   "cell_type": "code",
   "execution_count": 54,
   "metadata": {},
   "outputs": [
    {
     "data": {
      "text/plain": [
       "40"
      ]
     },
     "execution_count": 54,
     "metadata": {},
     "output_type": "execute_result"
    }
   ],
   "source": [
    "def product(x,y):\n",
    "    z = x * y\n",
    "    return z\n",
    "    print(z) #will not execute\n",
    "    \n",
    "product(5,8)"
   ]
  },
  {
   "cell_type": "code",
   "execution_count": 58,
   "metadata": {},
   "outputs": [
    {
     "name": "stdout",
     "output_type": "stream",
     "text": [
      "60\n"
     ]
    },
    {
     "ename": "TypeError",
     "evalue": "add() missing 1 required positional argument: 'z'",
     "output_type": "error",
     "traceback": [
      "\u001b[1;31m---------------------------------------------------------------------------\u001b[0m",
      "\u001b[1;31mTypeError\u001b[0m                                 Traceback (most recent call last)",
      "\u001b[1;32m<ipython-input-58-2988a13a15a4>\u001b[0m in \u001b[0;36m<module>\u001b[1;34m\u001b[0m\n\u001b[0;32m     11\u001b[0m \u001b[1;33m\u001b[0m\u001b[0m\n\u001b[0;32m     12\u001b[0m \u001b[1;31m# when value is not passed\u001b[0m\u001b[1;33m\u001b[0m\u001b[1;33m\u001b[0m\u001b[1;33m\u001b[0m\u001b[0m\n\u001b[1;32m---> 13\u001b[1;33m \u001b[0madd\u001b[0m\u001b[1;33m(\u001b[0m\u001b[1;36m10\u001b[0m\u001b[1;33m,\u001b[0m\u001b[1;36m20\u001b[0m\u001b[1;33m)\u001b[0m \u001b[1;31m#ERROR\u001b[0m\u001b[1;33m\u001b[0m\u001b[1;33m\u001b[0m\u001b[0m\n\u001b[0m",
      "\u001b[1;31mTypeError\u001b[0m: add() missing 1 required positional argument: 'z'"
     ]
    }
   ],
   "source": [
    "#default values\n",
    "#to initialize the parameters with default values in order to avoid the errors\n",
    "\n",
    "#Without default values\n",
    "def add(x,y,z):\n",
    "    a = x + y + z\n",
    "    print(a)\n",
    "    \n",
    "# when value is passed\n",
    "add(10,20,30)\n",
    "\n",
    "# when value is not passed\n",
    "add(10,20) #ERROR"
   ]
  },
  {
   "cell_type": "code",
   "execution_count": 61,
   "metadata": {},
   "outputs": [
    {
     "name": "stdout",
     "output_type": "stream",
     "text": [
      "30\n",
      "60\n"
     ]
    }
   ],
   "source": [
    "# With default values\n",
    "\n",
    "def add(x,y,z = 0): #z is initilized to 0 (default)\n",
    "    m = x + y + z\n",
    "    print(m)\n",
    "    \n",
    "# when value is not passed\n",
    "add(10,20)\n",
    "\n",
    "#when value is passed\n",
    "add(10,20,30)"
   ]
  },
  {
   "cell_type": "code",
   "execution_count": 62,
   "metadata": {},
   "outputs": [],
   "source": [
    "#A function can call any other function\n",
    "def func1():\n",
    "    print(\"func1\")\n",
    "\n",
    "def func2():\n",
    "    print(\"func2\")\n",
    "    func1()\n",
    "    \n",
    "def func3():\n",
    "    print(\"func3\")\n",
    "    func2()"
   ]
  },
  {
   "cell_type": "code",
   "execution_count": 64,
   "metadata": {},
   "outputs": [
    {
     "name": "stdout",
     "output_type": "stream",
     "text": [
      "func3\n",
      "func2\n",
      "func1\n"
     ]
    }
   ],
   "source": [
    "func3()"
   ]
  },
  {
   "cell_type": "code",
   "execution_count": 67,
   "metadata": {},
   "outputs": [
    {
     "name": "stdout",
     "output_type": "stream",
     "text": [
      "Hello\n",
      "Hello\n",
      "Hello\n",
      "Hello\n"
     ]
    }
   ],
   "source": [
    "\"\"\" \n",
    "Recursion or Recursive Function :\n",
    "A function calling itself\n",
    "Possibility of infinite execution. Always handle this scenario\n",
    "\"\"\"\n",
    "# Printing Hello for 5 times using recursion\n",
    "def my_func(num):\n",
    "    num = num + 1\n",
    "    if(num>5):\n",
    "        return\n",
    "    else:\n",
    "        print(\"Hello\")\n",
    "        my_func(num)\n",
    "\n",
    "my_func(1)"
   ]
  },
  {
   "cell_type": "code",
   "execution_count": 94,
   "metadata": {},
   "outputs": [
    {
     "name": "stdout",
     "output_type": "stream",
     "text": [
      "enter first number : 4\n",
      "enter second number : 5\n"
     ]
    }
   ],
   "source": [
    "\"\"\"\n",
    "Task11\n",
    "1. Ask 2 numbers from users and store it in num1 and num2\n",
    "2. Ask user to press 1 for addition,2 for subtraction,3 for multiplication and 4 for division\n",
    "3. create 4 seperate functions for each operation (i.e. addition,subtraction,multiplication and division)\n",
    "4. based on number given by user,call that perticular function and print the output\n",
    "\"\"\"\n",
    "#1\n",
    "def func():\n",
    " num1 = int(input(\"enter first number : \"))\n",
    " num2 = int(input(\"enter second number : \"))\n",
    "   \n",
    "func()"
   ]
  },
  {
   "cell_type": "code",
   "execution_count": 101,
   "metadata": {},
   "outputs": [
    {
     "name": "stdout",
     "output_type": "stream",
     "text": [
      "enter first number : 2\n",
      "enter second number : 5\n",
      "Press the for arithemetic operation 1, 2, 3, 4  :1\n",
      "1\n"
     ]
    }
   ],
   "source": [
    "#2\n",
    "def func():\n",
    " num1 = int(input(\"enter first number : \"))\n",
    " num2 = int(input(\"enter second number : \"))\n",
    " print(input(\"Press the for arithemetic operation 1, 2, 3, 4  :\"))\n",
    "  \n",
    "func()"
   ]
  },
  {
   "cell_type": "code",
   "execution_count": 113,
   "metadata": {},
   "outputs": [
    {
     "name": "stdout",
     "output_type": "stream",
     "text": [
      "enter first number : 6\n",
      "enter second number : 8\n",
      "Press the for arithemetic operation 1, 2, 3, 4  :2\n",
      "Invalid operation\n"
     ]
    }
   ],
   "source": [
    "#3 - adddition \n",
    "def func():\n",
    " num1 = int(input(\"enter first number : \"))\n",
    " num2 = int(input(\"enter second number : \"))\n",
    " a=input(\"Press the for arithemetic operation 1, 2, 3, 4  :\")\n",
    " if(a == '1'):\n",
    "   result = num1 + num2\n",
    "   print(result)\n",
    " else:\n",
    "  print(\"Invalid operation\")\n",
    "\n",
    "func()"
   ]
  },
  {
   "cell_type": "code",
   "execution_count": 114,
   "metadata": {},
   "outputs": [
    {
     "name": "stdout",
     "output_type": "stream",
     "text": [
      "enter first number : 5\n",
      "enter second number : 6\n",
      "Press the for arithemetic operation 1, 2, 3, 4  :2\n",
      "-1\n"
     ]
    }
   ],
   "source": [
    "#3 - suntraction \n",
    "def func():\n",
    " num1 = int(input(\"enter first number : \"))\n",
    " num2 = int(input(\"enter second number : \"))\n",
    " a=input(\"Press the for arithemetic operation 1, 2, 3, 4  : \")\n",
    " if(a == '2'):\n",
    "   result = num1 - num2\n",
    "   print(result)\n",
    " else:\n",
    "  print(\"Invalid operation\")\n",
    "\n",
    "func()"
   ]
  },
  {
   "cell_type": "code",
   "execution_count": 1,
   "metadata": {},
   "outputs": [
    {
     "name": "stdout",
     "output_type": "stream",
     "text": [
      "enter first number : 4\n",
      "enter second number : 5\n",
      "Press the for arithemetic operation 1, 2, 3, 4 : 3\n",
      "20\n"
     ]
    }
   ],
   "source": [
    "#3 - multiplication \n",
    "def func():\n",
    " num1 = int(input(\"enter first number : \"))\n",
    " num2 = int(input(\"enter second number : \"))\n",
    " a=input(\"Press the for arithemetic operation 1, 2, 3, 4 : \")\n",
    " if(a == '3'):\n",
    "   result = num1 * num2\n",
    "   print(result)\n",
    " else:\n",
    "  print(\"Invalid operation\")\n",
    "\n",
    "func()"
   ]
  },
  {
   "cell_type": "code",
   "execution_count": 2,
   "metadata": {},
   "outputs": [
    {
     "name": "stdout",
     "output_type": "stream",
     "text": [
      "enter first number : 6\n",
      "enter second number : 8\n",
      "Press the for arithemetic operation 1, 2, 3, 4  : 4\n",
      "0.75\n"
     ]
    }
   ],
   "source": [
    "#3 - dicision \n",
    "def func():\n",
    " num1 = int(input(\"enter first number : \"))\n",
    " num2 = int(input(\"enter second number : \"))\n",
    " a=input(\"Press the for arithemetic operation 1, 2, 3, 4  : \")\n",
    " if(a == '4'):\n",
    "   result = num1 / num2\n",
    "   print(result)\n",
    " else:\n",
    "  print(\"Invalid operation\")\n",
    "\n",
    "func()"
   ]
  },
  {
   "cell_type": "code",
   "execution_count": null,
   "metadata": {},
   "outputs": [],
   "source": []
  }
 ],
 "metadata": {
  "kernelspec": {
   "display_name": "Python 3",
   "language": "python",
   "name": "python3"
  },
  "language_info": {
   "codemirror_mode": {
    "name": "ipython",
    "version": 3
   },
   "file_extension": ".py",
   "mimetype": "text/x-python",
   "name": "python",
   "nbconvert_exporter": "python",
   "pygments_lexer": "ipython3",
   "version": "3.7.6"
  }
 },
 "nbformat": 4,
 "nbformat_minor": 4
}
