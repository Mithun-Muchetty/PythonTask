{
 "cells": [
  {
   "cell_type": "code",
   "execution_count": 2,
   "metadata": {},
   "outputs": [
    {
     "name": "stdout",
     "output_type": "stream",
     "text": [
      "('apple', 'banana', 'cherry')\n",
      "<class 'tuple'>\n"
     ]
    }
   ],
   "source": [
    "#Tuple\n",
    "#A tuple is a collection which is ordered and unchangeable. In Python tuples are written with round brackets.\n",
    "a = (\"apple\", \"banana\", \"cherry\")\n",
    "print(a)\n",
    "\n",
    "print(type(a))"
   ]
  },
  {
   "cell_type": "code",
   "execution_count": null,
   "metadata": {},
   "outputs": [],
   "source": [
    "#properties of tuple\n",
    "\"\"\"\n",
    "1  can store different data types.\n",
    "2  Duplicate values are allowed.\n",
    "3  order is retained.\n",
    "4  indexing and slicing is possible\n",
    "5  Immiutable\n",
    "\"\"\""
   ]
  },
  {
   "cell_type": "code",
   "execution_count": 5,
   "metadata": {},
   "outputs": [
    {
     "name": "stdout",
     "output_type": "stream",
     "text": [
      "4\n"
     ]
    }
   ],
   "source": [
    "#Accessing the item in the tuple\n",
    "a = (1,2,3,1,5,4,8,7,9)\n",
    "s = a[5]\n",
    "print(s)"
   ]
  },
  {
   "cell_type": "code",
   "execution_count": 8,
   "metadata": {},
   "outputs": [
    {
     "name": "stdout",
     "output_type": "stream",
     "text": [
      "(1, 2, 3, 1, 5)\n",
      "(1, 2, 3, 1, 5, 4, 8)\n",
      "(2, 1, 4)\n"
     ]
    }
   ],
   "source": [
    "\"\"\"\n",
    "Range of Indexes\n",
    "You can specify a range of indexes by specifying where to start and where to end the range.\n",
    "When specifying a range, the return value will be a new tuple with the specified items\n",
    "\"\"\"\n",
    "print(a[:5])\n",
    "print(a[ : -2])\n",
    "print(a[1:6:2])\n",
    "\n"
   ]
  },
  {
   "cell_type": "code",
   "execution_count": 9,
   "metadata": {},
   "outputs": [
    {
     "name": "stdout",
     "output_type": "stream",
     "text": [
      "[1, 2, 3, 1, 5, 4, 8, 7, 9]\n",
      "[1, 2, 20, 1, 5, 4, 8, 7, 9]\n",
      "(1, 2, 20, 1, 5, 4, 8, 7, 9)\n"
     ]
    }
   ],
   "source": [
    "\"\"\"\n",
    "Change Tuple Values\n",
    "Once a tuple is created, you cannot change its values. Tuples are unchangeable, or immutable as it also is called.\n",
    "But there is a workaround. You can convert the tuple into a list, change the list, and convert the list back into a tuple.\n",
    "\"\"\"\n",
    "thistuple = (1,2,3,1,5,4,8,7,9)\n",
    "x=list(thistuple)\n",
    "print(x)\n",
    "\n",
    "x[2]=20\n",
    "print(x)\n",
    "\n",
    "thistuple = tuple(x)\n",
    "print(thistuple)"
   ]
  },
  {
   "cell_type": "code",
   "execution_count": 10,
   "metadata": {},
   "outputs": [
    {
     "name": "stdout",
     "output_type": "stream",
     "text": [
      "1\n",
      "2\n",
      "3\n",
      "1\n",
      "5\n",
      "4\n",
      "8\n",
      "7\n",
      "9\n"
     ]
    }
   ],
   "source": [
    "#Loop Through a Tuple\n",
    "#You can loop through the tuple items by using a for loop.\n",
    "thistuple =(1,2,3,1,5,4,8,7,9)\n",
    "for x in thistuple:\n",
    " print(x)"
   ]
  },
  {
   "cell_type": "code",
   "execution_count": 13,
   "metadata": {},
   "outputs": [],
   "source": [
    "#Check if Item Exists\n",
    "#To determine if a specified item is present in a tuple use the in keyword:\n",
    "thistuple = ('a','b','c','d','e','b',1,2,4,\"python\")\n",
    "if \"c\" not in thistuple:\n",
    "  print(\"Yes, 'c' is in the tuple\")"
   ]
  },
  {
   "cell_type": "code",
   "execution_count": 14,
   "metadata": {},
   "outputs": [
    {
     "data": {
      "text/plain": [
       "10"
      ]
     },
     "execution_count": 14,
     "metadata": {},
     "output_type": "execute_result"
    }
   ],
   "source": [
    "#Tuple Length -- To determine how many items a tuple has, use the len() method:\n",
    "len(thistuple)"
   ]
  },
  {
   "cell_type": "code",
   "execution_count": 18,
   "metadata": {},
   "outputs": [
    {
     "ename": "TypeError",
     "evalue": "'tuple' object does not support item assignment",
     "output_type": "error",
     "traceback": [
      "\u001b[1;31m---------------------------------------------------------------------------\u001b[0m",
      "\u001b[1;31mTypeError\u001b[0m                                 Traceback (most recent call last)",
      "\u001b[1;32m<ipython-input-18-67e864e876c0>\u001b[0m in \u001b[0;36m<module>\u001b[1;34m\u001b[0m\n\u001b[0;32m      1\u001b[0m \u001b[1;31m#Add Items -- Once a tuple is created, you cannot add items to it. Tuples are unchangeable.\u001b[0m\u001b[1;33m\u001b[0m\u001b[1;33m\u001b[0m\u001b[1;33m\u001b[0m\u001b[0m\n\u001b[0;32m      2\u001b[0m \u001b[0mthistuple\u001b[0m \u001b[1;33m=\u001b[0m \u001b[1;33m(\u001b[0m\u001b[1;34m\"apple\"\u001b[0m\u001b[1;33m,\u001b[0m \u001b[1;34m\"banana\"\u001b[0m\u001b[1;33m,\u001b[0m \u001b[1;34m\"cherry\"\u001b[0m\u001b[1;33m)\u001b[0m\u001b[1;33m\u001b[0m\u001b[1;33m\u001b[0m\u001b[0m\n\u001b[1;32m----> 3\u001b[1;33m \u001b[0mthistuple\u001b[0m\u001b[1;33m[\u001b[0m\u001b[1;36m3\u001b[0m\u001b[1;33m]\u001b[0m \u001b[1;33m=\u001b[0m \u001b[1;34m\"orange\"\u001b[0m \u001b[1;31m# This will raise an error\u001b[0m\u001b[1;33m\u001b[0m\u001b[1;33m\u001b[0m\u001b[0m\n\u001b[0m\u001b[0;32m      4\u001b[0m \u001b[0mprint\u001b[0m\u001b[1;33m(\u001b[0m\u001b[0mthistuple\u001b[0m\u001b[1;33m)\u001b[0m\u001b[1;33m\u001b[0m\u001b[1;33m\u001b[0m\u001b[0m\n",
      "\u001b[1;31mTypeError\u001b[0m: 'tuple' object does not support item assignment"
     ]
    }
   ],
   "source": [
    "#Add Items -- Once a tuple is created, you cannot add items to it. Tuples are unchangeable.\n",
    "thistuple = (\"apple\", \"banana\", \"cherry\")\n",
    "thistuple[3] = \"orange\" # This will raise an error\n",
    "print(thistuple)"
   ]
  },
  {
   "cell_type": "code",
   "execution_count": 25,
   "metadata": {},
   "outputs": [
    {
     "name": "stdout",
     "output_type": "stream",
     "text": [
      "<class 'str'>\n",
      "<class 'tuple'>\n"
     ]
    }
   ],
   "source": [
    "#Create Tuple With One Item\n",
    "#To create a tuple with only one item, you have to add a comma after the item,\n",
    "# otherwise Python will not recognize it as a tuple.\n",
    "thistuple = (\"A\")\n",
    "print(type(thistuple)) #---- not a tuple it is a string\n",
    "\n",
    "thistup = (\"A\",)\n",
    "print(type(thistup))"
   ]
  },
  {
   "cell_type": "code",
   "execution_count": 29,
   "metadata": {},
   "outputs": [
    {
     "ename": "NameError",
     "evalue": "name 'thistuple' is not defined",
     "output_type": "error",
     "traceback": [
      "\u001b[1;31m---------------------------------------------------------------------------\u001b[0m",
      "\u001b[1;31mNameError\u001b[0m                                 Traceback (most recent call last)",
      "\u001b[1;32m<ipython-input-29-34ebbe71206c>\u001b[0m in \u001b[0;36m<module>\u001b[1;34m\u001b[0m\n\u001b[0;32m      4\u001b[0m \u001b[0mthistuple\u001b[0m \u001b[1;33m=\u001b[0m \u001b[1;33m(\u001b[0m\u001b[1;34m'a'\u001b[0m\u001b[1;33m,\u001b[0m\u001b[1;34m'b'\u001b[0m\u001b[1;33m,\u001b[0m\u001b[1;34m'c'\u001b[0m\u001b[1;33m,\u001b[0m\u001b[1;34m'd'\u001b[0m\u001b[1;33m,\u001b[0m\u001b[1;34m'e'\u001b[0m\u001b[1;33m,\u001b[0m\u001b[1;34m'b'\u001b[0m\u001b[1;33m,\u001b[0m\u001b[1;36m1\u001b[0m\u001b[1;33m,\u001b[0m\u001b[1;36m2\u001b[0m\u001b[1;33m,\u001b[0m\u001b[1;36m4\u001b[0m\u001b[1;33m,\u001b[0m\u001b[1;34m\"python\"\u001b[0m\u001b[1;33m)\u001b[0m\u001b[1;33m\u001b[0m\u001b[1;33m\u001b[0m\u001b[0m\n\u001b[0;32m      5\u001b[0m \u001b[1;32mdel\u001b[0m \u001b[0mthistuple\u001b[0m\u001b[1;33m\u001b[0m\u001b[1;33m\u001b[0m\u001b[0m\n\u001b[1;32m----> 6\u001b[1;33m \u001b[0mprint\u001b[0m\u001b[1;33m(\u001b[0m\u001b[0mthistuple\u001b[0m\u001b[1;33m)\u001b[0m\u001b[1;33m\u001b[0m\u001b[1;33m\u001b[0m\u001b[0m\n\u001b[0m",
      "\u001b[1;31mNameError\u001b[0m: name 'thistuple' is not defined"
     ]
    }
   ],
   "source": [
    "#Remove Items --- Tuples are unchangeable, so you cannot remove items from it, but you can delete the tuple completely:\n",
    "\n",
    "#The del keyword can delete the tuple completely:\n",
    "thistuple = ('a','b','c','d','e','b',1,2,4,\"python\")\n",
    "del thistuple\n",
    "print(thistuple)"
   ]
  },
  {
   "cell_type": "code",
   "execution_count": 15,
   "metadata": {},
   "outputs": [
    {
     "data": {
      "text/plain": [
       "('a', 'b', 'c', 1, 2, 3)"
      ]
     },
     "execution_count": 15,
     "metadata": {},
     "output_type": "execute_result"
    }
   ],
   "source": [
    "#Join Two Tuples -- To join two or more tuples you can use the + operator:\n",
    "tuple1 = (\"a\", \"b\" , \"c\")\n",
    "tuple2 = (1, 2, 3)\n",
    "\n",
    "tuple3 = tuple1 + tuple2\n",
    "tuple3\n"
   ]
  },
  {
   "cell_type": "code",
   "execution_count": 32,
   "metadata": {},
   "outputs": [
    {
     "name": "stdout",
     "output_type": "stream",
     "text": [
      "(1, 2, 3, 4, 'A', 'B', 'X', 'Z', 1, 3)\n"
     ]
    }
   ],
   "source": [
    "#The tuple() Constructor\n",
    "#It is also possible to use the tuple() constructor to make a tuple.\n",
    "thistuple = tuple((1,2,3,4,\"A\",\"B\",\"X\",\"Z\",1,3)) # note the double round-brackets\n",
    "print(thistuple)"
   ]
  },
  {
   "cell_type": "code",
   "execution_count": 35,
   "metadata": {},
   "outputs": [
    {
     "data": {
      "text/plain": [
       "2"
      ]
     },
     "execution_count": 35,
     "metadata": {},
     "output_type": "execute_result"
    }
   ],
   "source": [
    "#Count()  -- returns the no of times the item the specified in tuple\n",
    "a= thistuple.count(3)\n",
    "a"
   ]
  },
  {
   "cell_type": "code",
   "execution_count": 37,
   "metadata": {},
   "outputs": [
    {
     "data": {
      "text/plain": [
       "3"
      ]
     },
     "execution_count": 37,
     "metadata": {},
     "output_type": "execute_result"
    }
   ],
   "source": [
    "#Index() --- Search for the first occurrence of the value 8, and return its position:\n",
    "thistuple = (1, 3, 7, 8, 7, 5, 4, 6, 8, 5)\n",
    "z = thistuple.index(8)\n",
    "z\n"
   ]
  },
  {
   "cell_type": "code",
   "execution_count": 48,
   "metadata": {},
   "outputs": [
    {
     "name": "stdout",
     "output_type": "stream",
     "text": [
      "(1, 2, 3, 1, 5, 4, 8, 7, 9, 10)\n"
     ]
    }
   ],
   "source": [
    "#Task 6 Add andd remove the elements from the tuples\n",
    "thistuple = (1,2,3,1,5,4,8,7,9)\n",
    "#Adding \n",
    "a= list(thistuple)\n",
    "a\n",
    "\n",
    "a.append(10)\n",
    "b = tuple(a)\n",
    "print(b)\n"
   ]
  },
  {
   "cell_type": "code",
   "execution_count": 43,
   "metadata": {},
   "outputs": [
    {
     "name": "stdout",
     "output_type": "stream",
     "text": [
      "('w', 3, 's', 'o', 'u', 'r', 'c', 'e')\n",
      "('w', 3, 's', 'o', 'u', 'c', 'e')\n"
     ]
    }
   ],
   "source": [
    "\"\"\"tuplex = (\"w\", 3, \"r\", \"s\", \"o\", \"u\", \"r\", \"c\", \"e\")\n",
    "tuplex\n",
    "\n",
    "tuplex = tuplex[:2]+tuplex[3:]\n",
    "print(tuplex)\n",
    "\n",
    "list1 = list(tuplex)\n",
    "list1\n",
    "\n",
    "list1.remove('r')\n",
    "tupley = tuple(list1)\n",
    "print(tupley)\n",
    "\"\"\""
   ]
  },
  {
   "cell_type": "code",
   "execution_count": 18,
   "metadata": {},
   "outputs": [
    {
     "name": "stdout",
     "output_type": "stream",
     "text": [
      "['w', 3, 'r', 's', 'o', 'u', 'r', 'c', 'e']\n",
      "('w', 3, 'r', 'o', 'u', 'r', 'c', 'e')\n"
     ]
    }
   ],
   "source": [
    "#removing \n",
    "tuplex = (\"w\", 3, \"r\", \"s\", \"o\", \"u\", \"r\", \"c\", \"e\")\n",
    "x= list(tuplex)\n",
    "print(x)\n",
    "\n",
    "x.remove('s')\n",
    "\n",
    "y= tuple(x)\n",
    "print(y)"
   ]
  },
  {
   "cell_type": "code",
   "execution_count": null,
   "metadata": {},
   "outputs": [],
   "source": []
  },
  {
   "cell_type": "code",
   "execution_count": null,
   "metadata": {},
   "outputs": [],
   "source": []
  }
 ],
 "metadata": {
  "kernelspec": {
   "display_name": "Python 3",
   "language": "python",
   "name": "python3"
  },
  "language_info": {
   "codemirror_mode": {
    "name": "ipython",
    "version": 3
   },
   "file_extension": ".py",
   "mimetype": "text/x-python",
   "name": "python",
   "nbconvert_exporter": "python",
   "pygments_lexer": "ipython3",
   "version": "3.7.6"
  }
 },
 "nbformat": 4,
 "nbformat_minor": 4
}
