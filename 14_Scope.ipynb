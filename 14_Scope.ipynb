{
 "cells": [
  {
   "cell_type": "code",
   "execution_count": 2,
   "metadata": {},
   "outputs": [
    {
     "name": "stdout",
     "output_type": "stream",
     "text": [
      "5\n"
     ]
    },
    {
     "ename": "NameError",
     "evalue": "name 'x' is not defined",
     "output_type": "error",
     "traceback": [
      "\u001b[1;31m---------------------------------------------------------------------------\u001b[0m",
      "\u001b[1;31mNameError\u001b[0m                                 Traceback (most recent call last)",
      "\u001b[1;32m<ipython-input-2-4c148664eee1>\u001b[0m in \u001b[0;36m<module>\u001b[1;34m\u001b[0m\n\u001b[0;32m     17\u001b[0m \u001b[1;33m\u001b[0m\u001b[0m\n\u001b[0;32m     18\u001b[0m \u001b[1;31m#outside the function\u001b[0m\u001b[1;33m\u001b[0m\u001b[1;33m\u001b[0m\u001b[1;33m\u001b[0m\u001b[0m\n\u001b[1;32m---> 19\u001b[1;33m \u001b[0mprint\u001b[0m\u001b[1;33m(\u001b[0m\u001b[0mx\u001b[0m\u001b[1;33m)\u001b[0m \u001b[1;31m# Not accessable , ERROR\u001b[0m\u001b[1;33m\u001b[0m\u001b[1;33m\u001b[0m\u001b[0m\n\u001b[0m",
      "\u001b[1;31mNameError\u001b[0m: name 'x' is not defined"
     ]
    }
   ],
   "source": [
    "#SCOPE\n",
    "#A variable is only available from inside the region it is created. This is called scope.\n",
    "\n",
    "#scope have 3 types\n",
    "  #Local scope\n",
    "  #Enclosed scope\n",
    "  #Global Scope\n",
    "\"\"\"   \n",
    "Local Scope\n",
    "A variable created inside a function belongs to the local scope of that function, and can only be used inside that function.\n",
    "\"\"\"\n",
    "def func():\n",
    " x=5\n",
    " print(x)\n",
    "    \n",
    "func()\n",
    "\n",
    "#outside the function\n",
    "print(x) # Not accessable , ERROR\n"
   ]
  },
  {
   "cell_type": "code",
   "execution_count": 1,
   "metadata": {},
   "outputs": [
    {
     "name": "stdout",
     "output_type": "stream",
     "text": [
      "Outer function  300\n",
      "Inner function  300\n"
     ]
    }
   ],
   "source": [
    "\"\"\"\n",
    "Enclosing scope\n",
    "inner functions can have access to the outer or enclosing function's variables\n",
    "\"\"\"\n",
    "def outer_func():\n",
    "    x = 300\n",
    "    print('Outer function ',x)\n",
    "    def inner_fun():\n",
    "        #x=100\n",
    "        print('Inner function ',x) \n",
    "    \n",
    "    inner_fun()\n",
    "\n",
    "outer_func()"
   ]
  },
  {
   "cell_type": "code",
   "execution_count": 11,
   "metadata": {},
   "outputs": [
    {
     "name": "stdout",
     "output_type": "stream",
     "text": [
      "Global :  300\n",
      "my_func :  300\n",
      "my_inner_fun :  300\n"
     ]
    }
   ],
   "source": [
    "\"\"\"\n",
    "Global Scope\n",
    "A variable created in the main body of the Python code is a global variable and belongs to the global scope. \n",
    "Global variables are available from within any scope, global and local.\n",
    "\"\"\"\n",
    "x = 300\n",
    "def my_func():\n",
    "    #x=100\n",
    "    print('my_func : ',x)    \n",
    "    def my_inner_fun():\n",
    "        #x=20\n",
    "        print('my_inner_fun : ',x)\n",
    "    my_inner_fun()\n",
    "    \n",
    "print('Global : ',x)\n",
    "my_func()\n",
    "    "
   ]
  },
  {
   "cell_type": "code",
   "execution_count": 12,
   "metadata": {},
   "outputs": [
    {
     "name": "stdout",
     "output_type": "stream",
     "text": [
      "local  200\n",
      "GLobal 300\n"
     ]
    }
   ],
   "source": [
    "#How to change global variables inside functions\n",
    "x = 300\n",
    "\n",
    "def my_fun():\n",
    "    x = 200\n",
    "    print('local ',x)\n",
    "\n",
    "my_fun()\n",
    "print('GLobal',x)"
   ]
  },
  {
   "cell_type": "code",
   "execution_count": 13,
   "metadata": {},
   "outputs": [
    {
     "name": "stdout",
     "output_type": "stream",
     "text": [
      "local  200\n",
      "GLobal 300\n"
     ]
    }
   ],
   "source": [
    "#Global Keyword\n",
    "x1 = 300\n",
    "\n",
    "def my_fun():\n",
    "    global x\n",
    "    x = 200\n",
    "    print('local ',x)\n",
    "    \n",
    "my_fun()\n",
    "\n",
    "print('GLobal',x1)\n"
   ]
  },
  {
   "cell_type": "code",
   "execution_count": 17,
   "metadata": {},
   "outputs": [
    {
     "name": "stdout",
     "output_type": "stream",
     "text": [
      "Value of y global =  1000\n",
      "Value of y =  1\n"
     ]
    }
   ],
   "source": [
    "#Order of execution ---> Local,Enclosing,Global\n",
    "y = 1000\n",
    "\n",
    "def func1():\n",
    "    y = 100\n",
    "    #print('Value of y in func1= ', y )\n",
    "    \n",
    "    def func2():\n",
    "        y = 10\n",
    "        #print('Value of y in func2= ', y )\n",
    "        \n",
    "        def func3():\n",
    "            y = 1\n",
    "            print('Value of y = ', y )\n",
    "        \n",
    "        func3()\n",
    "    \n",
    "    func2()\n",
    "    \n",
    "print('Value of y global = ', y )\n",
    "func1()"
   ]
  },
  {
   "cell_type": "code",
   "execution_count": null,
   "metadata": {},
   "outputs": [],
   "source": [
    "#"
   ]
  }
 ],
 "metadata": {
  "kernelspec": {
   "display_name": "Python 3",
   "language": "python",
   "name": "python3"
  },
  "language_info": {
   "codemirror_mode": {
    "name": "ipython",
    "version": 3
   },
   "file_extension": ".py",
   "mimetype": "text/x-python",
   "name": "python",
   "nbconvert_exporter": "python",
   "pygments_lexer": "ipython3",
   "version": "3.7.6"
  }
 },
 "nbformat": 4,
 "nbformat_minor": 4
}
