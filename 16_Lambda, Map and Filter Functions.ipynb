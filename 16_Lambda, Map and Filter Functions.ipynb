{
 "cells": [
  {
   "cell_type": "code",
   "execution_count": null,
   "metadata": {},
   "outputs": [],
   "source": []
  },
  {
   "cell_type": "code",
   "execution_count": 1,
   "metadata": {},
   "outputs": [
    {
     "data": {
      "text/plain": [
       "25"
      ]
     },
     "execution_count": 1,
     "metadata": {},
     "output_type": "execute_result"
    }
   ],
   "source": [
    "#A lambda function is a small anonymous function.\n",
    "#A lambda function can take any number of arguments, but can only have one expression.\n",
    "\"\"\"\n",
    "syntax\n",
    "\n",
    "lambda arguments : expression\n",
    "\n",
    "\"\"\"\n",
    "# with one argument\n",
    "\n",
    "# normal function\n",
    "def square(num):\n",
    "    return num**2\n",
    "\n",
    "square(5)"
   ]
  },
  {
   "cell_type": "code",
   "execution_count": 4,
   "metadata": {},
   "outputs": [
    {
     "data": {
      "text/plain": [
       "36"
      ]
     },
     "execution_count": 4,
     "metadata": {},
     "output_type": "execute_result"
    }
   ],
   "source": [
    "square = lambda num: num**2\n",
    "square(6)"
   ]
  },
  {
   "cell_type": "code",
   "execution_count": 5,
   "metadata": {},
   "outputs": [
    {
     "data": {
      "text/plain": [
       "30"
      ]
     },
     "execution_count": 5,
     "metadata": {},
     "output_type": "execute_result"
    }
   ],
   "source": [
    "# with multiple arguments\n",
    "# normal function -- adding number \n",
    "def add(x,y,z):\n",
    "    return x + y + z\n",
    "\n",
    "add(5,10,15)"
   ]
  },
  {
   "cell_type": "code",
   "execution_count": 7,
   "metadata": {},
   "outputs": [
    {
     "data": {
      "text/plain": [
       "15"
      ]
     },
     "execution_count": 7,
     "metadata": {},
     "output_type": "execute_result"
    }
   ],
   "source": [
    "add= lambda x,y,z: x+y+z\n",
    "add(4,5,6)"
   ]
  },
  {
   "cell_type": "code",
   "execution_count": 8,
   "metadata": {},
   "outputs": [
    {
     "name": "stdout",
     "output_type": "stream",
     "text": [
      "22\n"
     ]
    }
   ],
   "source": [
    "def myfunc(n):\n",
    "  return lambda a : a * n\n",
    "\n",
    "mydoubler = myfunc(2)\n",
    "\n",
    "print(mydoubler(11))"
   ]
  },
  {
   "cell_type": "code",
   "execution_count": 9,
   "metadata": {},
   "outputs": [
    {
     "name": "stdout",
     "output_type": "stream",
     "text": [
      "33\n"
     ]
    }
   ],
   "source": [
    "def myfunc(n):\n",
    "  return lambda a : a * n\n",
    "\n",
    "mytripler = myfunc(3)\n",
    "\n",
    "print(mytripler(11))"
   ]
  },
  {
   "cell_type": "code",
   "execution_count": 13,
   "metadata": {},
   "outputs": [],
   "source": [
    "##Map function\n",
    "#The map function allows you to \"map\" a function to an iterable object.\n",
    "#It returns map object.\n",
    "\n",
    "\"\"\"\n",
    "about map function\n",
    "\n",
    "syntax ---->\n",
    "map(function,sequence)\n",
    "\n",
    "it applies the function to all the elements in the sequences \n",
    "\n",
    "returns the map object\n",
    "\"\"\"\n"
   ]
  },
  {
   "cell_type": "code",
   "execution_count": 6,
   "metadata": {},
   "outputs": [],
   "source": [
    "# sequence\n",
    "my_nums = [1,2,3,4,5]\n",
    "#function to square a number\n",
    "def square(num):\n",
    "    return num**2\n"
   ]
  },
  {
   "cell_type": "code",
   "execution_count": 7,
   "metadata": {},
   "outputs": [
    {
     "data": {
      "text/plain": [
       "<map at 0x209f39100c8>"
      ]
     },
     "execution_count": 7,
     "metadata": {},
     "output_type": "execute_result"
    }
   ],
   "source": [
    "map(square, my_nums)"
   ]
  },
  {
   "cell_type": "code",
   "execution_count": 8,
   "metadata": {},
   "outputs": [
    {
     "name": "stdout",
     "output_type": "stream",
     "text": [
      "1\n",
      "4\n",
      "9\n",
      "16\n",
      "25\n"
     ]
    }
   ],
   "source": [
    "for i in map(square, my_nums):\n",
    " print(i)"
   ]
  },
  {
   "cell_type": "code",
   "execution_count": 27,
   "metadata": {},
   "outputs": [
    {
     "name": "stdout",
     "output_type": "stream",
     "text": [
      "[1, 2, 3, 4, 5, 6, 7, 8, 9]\n"
     ]
    }
   ],
   "source": [
    "#ODD and EVEN NUMBERS\n",
    "#sequence\n",
    "my_nums = [1,2,3,4,5,6,7,8,9]\n",
    "print(my_nums)"
   ]
  },
  {
   "cell_type": "code",
   "execution_count": 28,
   "metadata": {},
   "outputs": [
    {
     "name": "stdout",
     "output_type": "stream",
     "text": [
      "<function even_odd at 0x000001E2F9688DC8>\n"
     ]
    }
   ],
   "source": [
    "#function\n",
    "def even_odd(num):\n",
    "    if(num%2==0):\n",
    "        return 'even'\n",
    "    else:\n",
    "        return 'odd'\n",
    "    \n",
    "print(even_odd)"
   ]
  },
  {
   "cell_type": "code",
   "execution_count": 29,
   "metadata": {},
   "outputs": [
    {
     "data": {
      "text/plain": [
       "['odd', 'even', 'odd', 'even', 'odd', 'even', 'odd', 'even', 'odd']"
      ]
     },
     "execution_count": 29,
     "metadata": {},
     "output_type": "execute_result"
    }
   ],
   "source": [
    "list(map(even_odd,my_nums))"
   ]
  },
  {
   "cell_type": "code",
   "execution_count": null,
   "metadata": {},
   "outputs": [],
   "source": [
    "#Filter function\n",
    "#The filter function allows you to filter the elements based on the condition given in the function.\n",
    "#returns an filter object\n",
    "\n",
    "\"\"\"\n",
    "syntax ---->  filter(function,sequence)\n",
    "\n",
    "it applies the function to all the elements in the sequences and \n",
    "retains only those elements which passes the specific conditions\n",
    "\n",
    "\"\"\"\n"
   ]
  },
  {
   "cell_type": "code",
   "execution_count": 34,
   "metadata": {},
   "outputs": [
    {
     "name": "stdout",
     "output_type": "stream",
     "text": [
      "['orange', 'oncology', 'morpho', 'apple', 'organism']\n"
     ]
    }
   ],
   "source": [
    "#To filter the words starting with 'o'\n",
    "word_list = ['orange','oncology','morpho','apple','organism']\n",
    "print(word_list)"
   ]
  },
  {
   "cell_type": "code",
   "execution_count": 35,
   "metadata": {},
   "outputs": [],
   "source": [
    "def starts_with_o(word):\n",
    "    if(word[0] == 'o'):\n",
    "        return True\n",
    "    else:\n",
    "        return False"
   ]
  },
  {
   "cell_type": "code",
   "execution_count": 36,
   "metadata": {},
   "outputs": [
    {
     "data": {
      "text/plain": [
       "['orange', 'oncology', 'organism']"
      ]
     },
     "execution_count": 36,
     "metadata": {},
     "output_type": "execute_result"
    }
   ],
   "source": [
    "list(filter(starts_with_o, word_list))"
   ]
  },
  {
   "cell_type": "code",
   "execution_count": 43,
   "metadata": {},
   "outputs": [],
   "source": [
    "#To filter only the even numbers\n",
    "# Sequence\n",
    "nums = [0,1,2,3,4,5,6,7,8,9,10]\n",
    "def check(num):\n",
    "  if(num%2==0):\n",
    "     return True\n",
    "  else:\n",
    "     return False\n"
   ]
  },
  {
   "cell_type": "code",
   "execution_count": 44,
   "metadata": {},
   "outputs": [
    {
     "data": {
      "text/plain": [
       "[0, 2, 4, 6, 8, 10]"
      ]
     },
     "execution_count": 44,
     "metadata": {},
     "output_type": "execute_result"
    }
   ],
   "source": [
    "list(filter(check,nums))"
   ]
  },
  {
   "cell_type": "code",
   "execution_count": 46,
   "metadata": {},
   "outputs": [
    {
     "data": {
      "text/plain": [
       "[False, True, False, False, True, True, True]"
      ]
     },
     "execution_count": 46,
     "metadata": {},
     "output_type": "execute_result"
    }
   ],
   "source": [
    "#Using map() and filter() with lambda functions\n",
    "#Ex1) Square Ex\n",
    "num = [1,2,3,5,4,6,8]\n",
    "list(map(lambda num:num%2==0,num))"
   ]
  },
  {
   "cell_type": "code",
   "execution_count": 47,
   "metadata": {},
   "outputs": [
    {
     "data": {
      "text/plain": [
       "[1, 4, 9, 25, 16, 36, 64]"
      ]
     },
     "execution_count": 47,
     "metadata": {},
     "output_type": "execute_result"
    }
   ],
   "source": [
    "num = [1,2,3,5,4,6,8]\n",
    "list(map(lambda num:num**2,num))"
   ]
  },
  {
   "cell_type": "code",
   "execution_count": 54,
   "metadata": {},
   "outputs": [
    {
     "data": {
      "text/plain": [
       "[2, 4, 6, 8]"
      ]
     },
     "execution_count": 54,
     "metadata": {},
     "output_type": "execute_result"
    }
   ],
   "source": [
    "num = [1,2,3,5,4,6,8]\n",
    "list(filter(lambda num: num%2==0, num))"
   ]
  },
  {
   "cell_type": "code",
   "execution_count": 52,
   "metadata": {},
   "outputs": [
    {
     "name": "stdout",
     "output_type": "stream",
     "text": [
      "1\n",
      "2\n",
      "3\n",
      "5\n",
      "4\n",
      "6\n",
      "8\n"
     ]
    }
   ],
   "source": [
    "num = [1,2,3,5,4,6,8]\n",
    "list(filter(lambda num:num**2,num))\n",
    "\n",
    "for i in filter(lambda num:num**2,num):\n",
    " print(i)"
   ]
  },
  {
   "cell_type": "code",
   "execution_count": 67,
   "metadata": {},
   "outputs": [
    {
     "name": "stdout",
     "output_type": "stream",
     "text": [
      "97\n"
     ]
    }
   ],
   "source": [
    "\"\"\"\n",
    "Task12 : Go through the below in-built functions with 2 examples each.\n",
    "reduce()\n",
    "zip()\n",
    "enumerate()\n",
    "\"\"\"\n",
    "#The syntax of the reduce() function is as follows:\n",
    "\n",
    "#Syntax: reduce(function, sequence[, initial]) -> value\n",
    "\n",
    "#from functools import reduce\n",
    "\n",
    "li = [1,2,8,12,17,25,32]\n",
    "\n",
    "sum = reduce((lambda x,y: x+y),li)\n",
    "print(sum)"
   ]
  },
  {
   "cell_type": "code",
   "execution_count": 79,
   "metadata": {},
   "outputs": [
    {
     "name": "stdout",
     "output_type": "stream",
     "text": [
      "-95\n"
     ]
    }
   ],
   "source": [
    "#from functools import reduce\n",
    "li =[1,2,8,12,17,25,32]\n",
    "\n",
    "EO = reduce((lambda x,y:x-y),li)\n",
    "print(EO)"
   ]
  },
  {
   "cell_type": "code",
   "execution_count": null,
   "metadata": {},
   "outputs": [],
   "source": [
    "#Reduce()\n",
    "\"\"\"\n",
    "The reduce() function accepts a function and a sequence and returns a single value calculated as follows:\n",
    "\n",
    "Initially, the function is called with the first two items from the sequence and the result is returned.\n",
    "The function is then called again with the result obtained in step 1 and the next value in the sequence. \n",
    "This process keeps repeating until there are items in the sequence.\n",
    "\n",
    "\"\"\""
   ]
  },
  {
   "cell_type": "code",
   "execution_count": 80,
   "metadata": {},
   "outputs": [
    {
     "name": "stdout",
     "output_type": "stream",
     "text": [
      "20\n"
     ]
    }
   ],
   "source": [
    "#from functools import reduce\n",
    " \n",
    "def do_sum(x1, x2): \n",
    "    return x1 + x2\n",
    "\n",
    "sum = reduce(do_sum, [2, 4, 6, 8])\n",
    "print(sum)"
   ]
  },
  {
   "cell_type": "code",
   "execution_count": 88,
   "metadata": {},
   "outputs": [
    {
     "name": "stdout",
     "output_type": "stream",
     "text": [
      "<zip object at 0x000001E2F969F8C8>\n"
     ]
    }
   ],
   "source": [
    "#zip() Function\n",
    "#join two tuple, list ,  in together.\n",
    "'''\n",
    "\n",
    "The zip() function returns a zip object, which is an iterator of tuples where the first item in each \n",
    "passed iterator is paired together, and then the second item in each passed iterator are paired together etc.\n",
    "\n",
    "If the passed iterators have different lengths, the iterator with the least items decides the length of the new iterator.\n",
    "'''\n",
    "a =('Hi','welcome','to','python')\n",
    "b =('Hello','thank','you')\n",
    "x= zip(a,b)\n",
    "print(x)"
   ]
  },
  {
   "cell_type": "code",
   "execution_count": 89,
   "metadata": {},
   "outputs": [
    {
     "name": "stdout",
     "output_type": "stream",
     "text": [
      "('Hi', 'Hello')\n",
      "('welcome', 'thank')\n",
      "('to', 'you')\n"
     ]
    }
   ],
   "source": [
    "for i in x:\n",
    " print(i)"
   ]
  },
  {
   "cell_type": "code",
   "execution_count": 83,
   "metadata": {},
   "outputs": [],
   "source": [
    "x= ['Hi','welcome to','python']\n",
    "y= ['Hello','thank','you']\n",
    "z = zip(x,y)"
   ]
  },
  {
   "cell_type": "code",
   "execution_count": 85,
   "metadata": {},
   "outputs": [
    {
     "name": "stdout",
     "output_type": "stream",
     "text": [
      "<zip object at 0x000001E2F96955C8>\n",
      "('Hi', 'Hello')\n",
      "('welcome to', 'thank')\n",
      "('python', 'you')\n"
     ]
    }
   ],
   "source": [
    "print(z)\n",
    "for i in z: print(i)"
   ]
  },
  {
   "cell_type": "code",
   "execution_count": 102,
   "metadata": {},
   "outputs": [
    {
     "name": "stdout",
     "output_type": "stream",
     "text": [
      "<zip object at 0x000001E2F96B1E08>\n"
     ]
    }
   ],
   "source": [
    "# with 3 itrators\n",
    "a = (\"amazon\",\"microsoft\",\"infosys\")\n",
    "b = (1,3,4,5,6)\n",
    "c = ('samsung','mi','oneplus','apple')\n",
    "\n",
    "m = zip(a, b, c)\n",
    "print(m)"
   ]
  },
  {
   "cell_type": "code",
   "execution_count": 103,
   "metadata": {},
   "outputs": [
    {
     "name": "stdout",
     "output_type": "stream",
     "text": [
      "('amazon', 1, 'samsung')\n",
      "('microsoft', 3, 'mi')\n",
      "('infosys', 4, 'oneplus')\n"
     ]
    }
   ],
   "source": [
    "for i in m:\n",
    " print(i)"
   ]
  },
  {
   "cell_type": "code",
   "execution_count": null,
   "metadata": {},
   "outputs": [],
   "source": [
    "#The enumerate() method adds counter to an iterable and returns it (the enumerate object).\n",
    "# syntax:\n",
    " \n",
    "    enumerate(iterable, start=0)\n",
    "\"\"\"\n",
    "enumerate() Parameters\n",
    "The enumerate() method takes two parameters:\n",
    "\n",
    "iterable - a sequence, an iterator, or objects that supports iteration\n",
    "start (optional) - enumerate() starts counting from this number. If start is omitted, 0 is taken as start.\n",
    "\"\"\""
   ]
  },
  {
   "cell_type": "code",
   "execution_count": 114,
   "metadata": {},
   "outputs": [
    {
     "name": "stdout",
     "output_type": "stream",
     "text": [
      "<enumerate object at 0x000001E2F94DFAE8>\n",
      "[(100, 'amazon'), (101, 'microsoft'), (102, 'infosys'), (103, 'samsung'), (104, 'mi'), (105, 'oneplus'), (106, 'apple')]\n"
     ]
    }
   ],
   "source": [
    "a = (\"amazon\",\"microsoft\",\"infosys\",'samsung','mi','oneplus','apple')\n",
    "x = enumerate(a,100)\n",
    "print(x)\n",
    "print(list(x))"
   ]
  },
  {
   "cell_type": "code",
   "execution_count": 110,
   "metadata": {},
   "outputs": [
    {
     "name": "stdout",
     "output_type": "stream",
     "text": [
      "(0, 'amazon')\n",
      "(1, 'microsoft')\n",
      "(2, 'infosys')\n",
      "(3, 'samsung')\n",
      "(4, 'mi')\n",
      "(5, 'oneplus')\n",
      "(6, 'apple')\n"
     ]
    }
   ],
   "source": [
    "for i in x:\n",
    " print(i)"
   ]
  },
  {
   "cell_type": "code",
   "execution_count": null,
   "metadata": {},
   "outputs": [],
   "source": []
  },
  {
   "cell_type": "code",
   "execution_count": null,
   "metadata": {},
   "outputs": [],
   "source": []
  }
 ],
 "metadata": {
  "kernelspec": {
   "display_name": "Python 3",
   "language": "python",
   "name": "python3"
  },
  "language_info": {
   "codemirror_mode": {
    "name": "ipython",
    "version": 3
   },
   "file_extension": ".py",
   "mimetype": "text/x-python",
   "name": "python",
   "nbconvert_exporter": "python",
   "pygments_lexer": "ipython3",
   "version": "3.7.6"
  }
 },
 "nbformat": 4,
 "nbformat_minor": 4
}
